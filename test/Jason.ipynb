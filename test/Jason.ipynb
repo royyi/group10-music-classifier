{
 "cells": [
  {
   "cell_type": "code",
   "execution_count": 70,
   "metadata": {
    "pycharm": {
     "is_executing": true
    }
   },
   "outputs": [],
   "source": [
    "import sys\n",
    "\n",
    "sys.path.append(\"..\")\n",
    "\n",
    "import time\n",
    "import numpy as np\n",
    "import pandas as pd\n",
    "\n",
    "import sklearn as skl\n",
    "import sklearn.utils, sklearn.preprocessing, sklearn.decomposition, sklearn.svm\n",
    "import eda.util as utils\n",
    "\n",
    "from sklearn.preprocessing import StandardScaler, LabelEncoder\n",
    "\n",
    "import tensorflow as tf\n",
    "from keras import layers, Sequential, callbacks\n",
    "from keras.regularizers import l2\n",
    "\n",
    "import matplotlib.pyplot as plt\n",
    "\n",
    "from project.config import DATA_FOLDER, SUBSET\n",
    "from project.utils.fma import load_tracks, load_handcrafted\n",
    "from project.utils.nn import plot_history\n"
   ]
  },
  {
   "cell_type": "code",
   "execution_count": 71,
   "metadata": {},
   "outputs": [],
   "source": [
    "import pandas as pd\n",
    "import os\n",
    "import ast\n",
    "\n",
    "import sklearn as skl\n",
    "import sklearn.utils, sklearn.preprocessing, sklearn.decomposition, sklearn.svm\n",
    "import matplotlib.pyplot as plt\n",
    "%matplotlib inline\n",
    "\n",
    "import seaborn as sns\n",
    "import numpy as np"
   ]
  },
  {
   "cell_type": "code",
   "execution_count": 72,
   "metadata": {},
   "outputs": [],
   "source": [
    "tracks = utils.load('/fma_metadata/tracks.csv')\n",
    "features = utils.load('/fma_metadata/features.csv')\n"
   ]
  },
  {
   "cell_type": "code",
   "execution_count": 73,
   "metadata": {},
   "outputs": [],
   "source": [
    "subset = tracks['set', 'subset'] <= SUBSET\n",
    "#subset = tracks.index[tracks['set', 'subset'] <= 'medium']\n",
    "train = tracks[\"set\", \"split\"] == \"training\"\n",
    "val = tracks[\"set\", \"split\"] == \"validation\"\n",
    "test = tracks[\"set\", \"split\"] == \"test\"\n",
    "\n",
    "y_train = tracks.loc[subset & train, (\"track\", \"genre_top\")]\n",
    "y_val = tracks.loc[subset & val, (\"track\", \"genre_top\")]\n",
    "y_test = tracks.loc[subset & test, (\"track\", \"genre_top\")]\n",
    "\n",
    "X_train = features.loc[subset & train]\n",
    "X_val = features.loc[subset & val]\n",
    "X_test = features.loc[subset & test]"
   ]
  },
  {
   "cell_type": "code",
   "execution_count": 74,
   "metadata": {},
   "outputs": [],
   "source": [
    "# redefine typer for genres column\n",
    "y_train = y_train.astype(\n",
    "    pd.CategoricalDtype(\n",
    "        categories=[\n",
    "            \"Electronic\",\n",
    "            \"Experimental\",\n",
    "            \"Folk\",\n",
    "            \"Hip-Hop\",\n",
    "            \"Instrumental\",\n",
    "            \"International\",\n",
    "            \"Pop\",\n",
    "            \"Rock\",\n",
    "        ]\n",
    "    )\n",
    ")"
   ]
  },
  {
   "cell_type": "code",
   "execution_count": 75,
   "metadata": {},
   "outputs": [
    {
     "data": {
      "text/plain": [
       "((6400, 518), (6400,), (800, 518), (800,), (800, 518), (800,))"
      ]
     },
     "execution_count": 75,
     "metadata": {},
     "output_type": "execute_result"
    }
   ],
   "source": [
    "X_train.shape, y_train.shape, X_val.shape, y_val.shape, X_test.shape, y_test.shape"
   ]
  },
  {
   "cell_type": "code",
   "execution_count": 76,
   "metadata": {},
   "outputs": [
    {
     "data": {
      "text/plain": [
       "Electronic       800\n",
       "Experimental     800\n",
       "Folk             800\n",
       "Hip-Hop          800\n",
       "Instrumental     800\n",
       "International    800\n",
       "Pop              800\n",
       "Rock             800\n",
       "Name: (track, genre_top), dtype: int64"
      ]
     },
     "execution_count": 76,
     "metadata": {},
     "output_type": "execute_result"
    }
   ],
   "source": [
    "counts = y_train.value_counts()\n",
    "classes = list(y_train.unique())\n",
    "n_classes = len(counts)\n",
    "counts"
   ]
  },
  {
   "cell_type": "code",
   "execution_count": 77,
   "metadata": {},
   "outputs": [
    {
     "name": "stderr",
     "output_type": "stream",
     "text": [
      "c:\\Users\\arman\\anaconda3\\envs\\tf_3.7\\lib\\site-packages\\sklearn\\utils\\validation.py:1692: FutureWarning: Feature names only support names that are all strings. Got feature names with dtypes: ['tuple']. An error will be raised in 1.2.\n",
      "  FutureWarning,\n",
      "c:\\Users\\arman\\anaconda3\\envs\\tf_3.7\\lib\\site-packages\\sklearn\\utils\\validation.py:1692: FutureWarning: Feature names only support names that are all strings. Got feature names with dtypes: ['tuple']. An error will be raised in 1.2.\n",
      "  FutureWarning,\n",
      "c:\\Users\\arman\\anaconda3\\envs\\tf_3.7\\lib\\site-packages\\sklearn\\utils\\validation.py:1692: FutureWarning: Feature names only support names that are all strings. Got feature names with dtypes: ['tuple']. An error will be raised in 1.2.\n",
      "  FutureWarning,\n",
      "c:\\Users\\arman\\anaconda3\\envs\\tf_3.7\\lib\\site-packages\\sklearn\\utils\\validation.py:1692: FutureWarning: Feature names only support names that are all strings. Got feature names with dtypes: ['tuple']. An error will be raised in 1.2.\n",
      "  FutureWarning,\n"
     ]
    }
   ],
   "source": [
    "scaler = StandardScaler()\n",
    "scaler.fit(X_train)\n",
    "\n",
    "X_train = scaler.transform(X_train)\n",
    "X_val = scaler.transform(X_val)\n",
    "X_test = scaler.transform(X_test)\n",
    "\n",
    "lab_encoder = LabelEncoder()\n",
    "lab_encoder.fit(y_train)\n",
    "\n",
    "y_train = lab_encoder.transform(y_train)\n",
    "y_val = lab_encoder.transform(y_val)\n",
    "y_test = lab_encoder.transform(y_test)\n",
    "\n",
    "y_train = tf.keras.utils.to_categorical(y_train, 8)\n",
    "y_val = tf.keras.utils.to_categorical(y_val, 8)\n",
    "y_test = tf.keras.utils.to_categorical(y_test, 8)"
   ]
  },
  {
   "cell_type": "code",
   "execution_count": 78,
   "metadata": {},
   "outputs": [
    {
     "name": "stdout",
     "output_type": "stream",
     "text": [
      "Model: \"sequential\"\n",
      "_________________________________________________________________\n",
      "Layer (type)                 Output Shape              Param #   \n",
      "=================================================================\n",
      "dense (Dense)                (None, 512)               265728    \n",
      "_________________________________________________________________\n",
      "dense_1 (Dense)              (None, 256)               131328    \n",
      "_________________________________________________________________\n",
      "dense_2 (Dense)              (None, 8)                 2056      \n",
      "=================================================================\n",
      "Total params: 399,112\n",
      "Trainable params: 399,112\n",
      "Non-trainable params: 0\n",
      "_________________________________________________________________\n"
     ]
    }
   ],
   "source": [
    "tf.keras.backend.clear_session()\n",
    "\n",
    "model = Sequential([\n",
    "    layers.Dense(512, input_shape=(518,), activation=\"relu\", kernel_regularizer=l2(0.02)),\n",
    "    layers.Dense(256, activation=\"relu\", kernel_regularizer=l2(0.02)),\n",
    "    layers.Dense(n_classes, activation=\"softmax\", kernel_regularizer=l2(0.02))\n",
    "])\n",
    "\n",
    "model.compile(\n",
    "    loss=\"categorical_crossentropy\",\n",
    "    optimizer=tf.keras.optimizers.Adam(1e-4),\n",
    "    metrics=[\"accuracy\"],\n",
    ")\n",
    "\n",
    "model.summary()"
   ]
  },
  {
   "cell_type": "code",
   "execution_count": 79,
   "metadata": {},
   "outputs": [
    {
     "name": "stdout",
     "output_type": "stream",
     "text": [
      "Epoch 1/200\n",
      "200/200 [==============================] - 2s 5ms/step - loss: 16.8890 - accuracy: 0.4030 - val_loss: 14.6505 - val_accuracy: 0.4750\n",
      "Epoch 2/200\n",
      "200/200 [==============================] - 1s 4ms/step - loss: 12.7650 - accuracy: 0.5491 - val_loss: 11.2160 - val_accuracy: 0.5025\n",
      "Epoch 3/200\n",
      "200/200 [==============================] - 1s 5ms/step - loss: 9.7101 - accuracy: 0.5969 - val_loss: 8.6092 - val_accuracy: 0.5300\n",
      "Epoch 4/200\n",
      "200/200 [==============================] - 1s 5ms/step - loss: 7.4269 - accuracy: 0.6214 - val_loss: 6.6705 - val_accuracy: 0.5288\n",
      "Epoch 5/200\n",
      "200/200 [==============================] - 1s 5ms/step - loss: 5.7396 - accuracy: 0.6394 - val_loss: 5.2628 - val_accuracy: 0.5512\n",
      "Epoch 6/200\n",
      "200/200 [==============================] - 1s 4ms/step - loss: 4.5126 - accuracy: 0.6445 - val_loss: 4.2533 - val_accuracy: 0.5462\n",
      "Epoch 7/200\n",
      "200/200 [==============================] - 1s 4ms/step - loss: 3.6273 - accuracy: 0.6536 - val_loss: 3.4841 - val_accuracy: 0.5450\n",
      "Epoch 8/200\n",
      "200/200 [==============================] - 2s 8ms/step - loss: 2.9954 - accuracy: 0.6580 - val_loss: 2.9733 - val_accuracy: 0.5450\n",
      "Epoch 9/200\n",
      "200/200 [==============================] - 1s 5ms/step - loss: 2.5478 - accuracy: 0.6623 - val_loss: 2.6328 - val_accuracy: 0.5537\n",
      "Epoch 10/200\n",
      "200/200 [==============================] - 1s 5ms/step - loss: 2.2344 - accuracy: 0.6630 - val_loss: 2.3352 - val_accuracy: 0.5688\n",
      "Epoch 11/200\n",
      "200/200 [==============================] - 1s 5ms/step - loss: 2.0164 - accuracy: 0.6684 - val_loss: 2.1754 - val_accuracy: 0.5462\n",
      "Epoch 12/200\n",
      "200/200 [==============================] - 1s 5ms/step - loss: 1.8628 - accuracy: 0.6731 - val_loss: 2.0328 - val_accuracy: 0.5600\n",
      "Epoch 13/200\n",
      "200/200 [==============================] - 1s 5ms/step - loss: 1.7576 - accuracy: 0.6733 - val_loss: 1.9449 - val_accuracy: 0.5638\n",
      "Epoch 14/200\n",
      "200/200 [==============================] - 2s 9ms/step - loss: 1.6856 - accuracy: 0.6702 - val_loss: 1.9109 - val_accuracy: 0.5587\n",
      "Epoch 15/200\n",
      "200/200 [==============================] - 1s 5ms/step - loss: 1.6302 - accuracy: 0.6742 - val_loss: 1.8439 - val_accuracy: 0.5700\n",
      "Epoch 16/200\n",
      "200/200 [==============================] - 1s 5ms/step - loss: 1.5958 - accuracy: 0.6741 - val_loss: 1.8218 - val_accuracy: 0.5700\n",
      "Epoch 17/200\n",
      "200/200 [==============================] - 1s 6ms/step - loss: 1.5680 - accuracy: 0.6723 - val_loss: 1.7955 - val_accuracy: 0.5738\n",
      "Epoch 18/200\n",
      "200/200 [==============================] - 1s 4ms/step - loss: 1.5500 - accuracy: 0.6748 - val_loss: 1.8003 - val_accuracy: 0.5612\n",
      "Epoch 19/200\n",
      "200/200 [==============================] - 1s 5ms/step - loss: 1.5368 - accuracy: 0.6736 - val_loss: 1.7771 - val_accuracy: 0.5675\n",
      "Epoch 20/200\n",
      "200/200 [==============================] - 1s 5ms/step - loss: 1.5244 - accuracy: 0.6756 - val_loss: 1.7485 - val_accuracy: 0.5813\n",
      "Epoch 21/200\n",
      "200/200 [==============================] - 1s 4ms/step - loss: 1.5147 - accuracy: 0.6764 - val_loss: 1.7846 - val_accuracy: 0.5575\n",
      "Epoch 22/200\n",
      "200/200 [==============================] - 1s 5ms/step - loss: 1.5083 - accuracy: 0.6797 - val_loss: 1.7936 - val_accuracy: 0.5562\n",
      "Epoch 23/200\n",
      "200/200 [==============================] - 1s 4ms/step - loss: 1.5016 - accuracy: 0.6789 - val_loss: 1.7470 - val_accuracy: 0.5750\n",
      "Epoch 24/200\n",
      "200/200 [==============================] - 1s 5ms/step - loss: 1.4998 - accuracy: 0.6739 - val_loss: 1.7294 - val_accuracy: 0.5725\n",
      "Epoch 25/200\n",
      "200/200 [==============================] - 1s 4ms/step - loss: 1.4959 - accuracy: 0.6722 - val_loss: 1.7559 - val_accuracy: 0.5713\n",
      "Epoch 26/200\n",
      "200/200 [==============================] - 1s 4ms/step - loss: 1.4923 - accuracy: 0.6800 - val_loss: 1.7440 - val_accuracy: 0.5612\n",
      "Epoch 27/200\n",
      "200/200 [==============================] - 1s 5ms/step - loss: 1.4890 - accuracy: 0.6753 - val_loss: 1.7399 - val_accuracy: 0.5738\n",
      "Epoch 28/200\n",
      "200/200 [==============================] - 1s 4ms/step - loss: 1.4875 - accuracy: 0.6775 - val_loss: 1.7434 - val_accuracy: 0.5600\n",
      "Epoch 29/200\n",
      "200/200 [==============================] - 1s 4ms/step - loss: 1.4826 - accuracy: 0.6756 - val_loss: 1.7638 - val_accuracy: 0.5562\n"
     ]
    }
   ],
   "source": [
    "batch_size = 32\n",
    "\n",
    "early_stop = tf.keras.callbacks.EarlyStopping(\n",
    "    monitor=\"val_loss\", patience=5, restore_best_weights=True\n",
    ")\n",
    "history = model.fit( X_train,y_train, batch_size=batch_size, epochs=200, validation_data=(X_val, y_val), callbacks=[early_stop],)"
   ]
  },
  {
   "cell_type": "code",
   "execution_count": 80,
   "metadata": {},
   "outputs": [
    {
     "name": "stderr",
     "output_type": "stream",
     "text": [
      "..\\project\\utils\\nn.py:24: UserWarning: Matplotlib is currently using module://matplotlib_inline.backend_inline, which is a non-GUI backend, so cannot show the figure.\n",
      "  fig.show()\n"
     ]
    },
    {
     "data": {
      "image/png": "[encoded data removed]",
      "text/plain": [
       "<Figure size 1080x360 with 2 Axes>"
      ]
     },
     "metadata": {
      "needs_background": "light"
     },
     "output_type": "display_data"
    }
   ],
   "source": [
    "#plot_history(history.history, save=True, filepath=\"../out/nn_handcrafted.jpg\")\n",
    "plot_history(history.history, save=True, filepath=\"plot_history.jpg\")"
   ]
  },
  {
   "cell_type": "code",
   "execution_count": 81,
   "metadata": {},
   "outputs": [
    {
     "name": "stdout",
     "output_type": "stream",
     "text": [
      "25/25 [==============================] - 0s 3ms/step - loss: 1.9360 - accuracy: 0.4825\n"
     ]
    }
   ],
   "source": [
    "loss, acc = model.evaluate(X_test, y_test, batch_size=batch_size)"
   ]
  },
  {
   "cell_type": "code",
   "execution_count": 82,
   "metadata": {},
   "outputs": [],
   "source": [
    "# from keras.callbacks import EarlyStopping\n",
    "\n",
    "# train_loss = history.history[\"loss\"][early_stop.best_epoch]\n",
    "# train_acc = history.history[\"accuracy\"][early_stop.best_epoch]\n",
    "# val_loss = history.history[\"val_loss\"][early_stop.best_epoch]\n",
    "# val_acc = history.history[\"val_accuracy\"][early_stop.best_epoch]\n",
    "\n",
    "# print(f\"Train\\t\\t loss: {train_loss}, accuracy: {train_acc}\")\n",
    "# print(f\"Validation\\t loss: {val_loss}, accuracy: {val_acc}\")\n",
    "# print(f\"Test\\t\\t loss: {loss}, accuracy: {acc}\")"
   ]
  },
  {
   "cell_type": "code",
   "execution_count": 83,
   "metadata": {},
   "outputs": [],
   "source": [
    "y_pred = model.predict(X_test, batch_size=batch_size)"
   ]
  },
  {
   "cell_type": "code",
   "execution_count": 84,
   "metadata": {},
   "outputs": [
    {
     "data": {
      "text/plain": [
       "<sklearn.metrics._plot.confusion_matrix.ConfusionMatrixDisplay at 0x17ebe248108>"
      ]
     },
     "execution_count": 84,
     "metadata": {},
     "output_type": "execute_result"
    },
    {
     "data": {
      "image/png": "[encoded data removed]",
      "text/plain": [
       "<Figure size 720x720 with 2 Axes>"
      ]
     },
     "metadata": {
      "needs_background": "light"
     },
     "output_type": "display_data"
    }
   ],
   "source": [
    "from sklearn.metrics import (\n",
    "    ConfusionMatrixDisplay,\n",
    "    confusion_matrix,\n",
    "    classification_report,\n",
    ")\n",
    "\n",
    "cm = confusion_matrix(np.argmax(y_pred, 1), np.argmax(y_test, 1))\n",
    "\n",
    "fig, ax = plt.subplots(figsize=(10,10))\n",
    "disp = ConfusionMatrixDisplay(cm, display_labels=classes)\n",
    "disp.plot(ax=ax, xticks_rotation=90, cmap = 'Blues')"
   ]
  },
  {
   "cell_type": "code",
   "execution_count": 85,
   "metadata": {},
   "outputs": [
    {
     "data": {
      "text/plain": [
       "111.03511000037543"
      ]
     },
     "execution_count": 85,
     "metadata": {},
     "output_type": "execute_result"
    }
   ],
   "source": [
    "from project.utils.nn import prediction_time\n",
    "prediction_time(model, input_shape=(518, ), device_name=\"/cpu:0\")\n",
    "prediction_time(model, input_shape=(518, ), device_name=\"/gpu:0\")"
   ]
  },
  {
   "cell_type": "markdown",
   "metadata": {},
   "source": [
    "# Classical Classifiers"
   ]
  },
  {
   "cell_type": "code",
   "execution_count": 86,
   "metadata": {},
   "outputs": [
    {
     "name": "stdout",
     "output_type": "stream",
     "text": [
      "SVM\n",
      "15.85583939999924\n",
      "              precision    recall  f1-score   support\n",
      "\n",
      "           0       0.58      0.60      0.59       100\n",
      "           1       0.36      0.43      0.39       100\n",
      "           2       0.25      0.25      0.25       100\n",
      "           3       0.68      0.72      0.70       100\n",
      "           4       0.41      0.38      0.39       100\n",
      "           5       0.58      0.41      0.48       100\n",
      "           6       0.42      0.41      0.41       100\n",
      "           7       0.59      0.63      0.61       100\n",
      "\n",
      "    accuracy                           0.48       800\n",
      "   macro avg       0.48      0.48      0.48       800\n",
      "weighted avg       0.48      0.48      0.48       800\n",
      "\n",
      "KNN\n",
      "0.31914030000189086\n",
      "              precision    recall  f1-score   support\n",
      "\n",
      "           0       0.42      0.33      0.37       100\n",
      "           1       0.40      0.21      0.27       100\n",
      "           2       0.20      0.31      0.25       100\n",
      "           3       0.49      0.59      0.53       100\n",
      "           4       0.29      0.15      0.20       100\n",
      "           5       0.24      0.43      0.30       100\n",
      "           6       0.17      0.13      0.15       100\n",
      "           7       0.52      0.43      0.47       100\n",
      "\n",
      "    accuracy                           0.32       800\n",
      "   macro avg       0.34      0.32      0.32       800\n",
      "weighted avg       0.34      0.32      0.32       800\n",
      "\n",
      "RF\n",
      "10.335195600000588\n",
      "              precision    recall  f1-score   support\n",
      "\n",
      "           0       0.57      0.59      0.58       100\n",
      "           1       0.32      0.32      0.32       100\n",
      "           2       0.22      0.28      0.25       100\n",
      "           3       0.64      0.72      0.68       100\n",
      "           4       0.46      0.39      0.42       100\n",
      "           5       0.55      0.47      0.51       100\n",
      "           6       0.48      0.43      0.46       100\n",
      "           7       0.65      0.64      0.65       100\n",
      "\n",
      "    accuracy                           0.48       800\n",
      "   macro avg       0.49      0.48      0.48       800\n",
      "weighted avg       0.49      0.48      0.48       800\n",
      "\n",
      "GNB\n",
      "0.12740370000028634\n",
      "              precision    recall  f1-score   support\n",
      "\n",
      "           0       0.38      0.06      0.10       100\n",
      "           1       0.40      0.10      0.16       100\n",
      "           2       0.20      0.20      0.20       100\n",
      "           3       0.29      0.02      0.04       100\n",
      "           4       0.54      0.07      0.12       100\n",
      "           5       0.20      0.78      0.32       100\n",
      "           6       0.24      0.28      0.26       100\n",
      "           7       0.50      0.64      0.56       100\n",
      "\n",
      "    accuracy                           0.27       800\n",
      "   macro avg       0.34      0.27      0.22       800\n",
      "weighted avg       0.34      0.27      0.22       800\n",
      "\n"
     ]
    }
   ],
   "source": [
    "import time\n",
    "\n",
    "from sklearn.neighbors import KNeighborsClassifier\n",
    "from sklearn.naive_bayes import GaussianNB\n",
    "from sklearn.svm import SVC\n",
    "from sklearn.ensemble import RandomForestClassifier\n",
    "\n",
    "models = [\n",
    "    (\"SVM\", SVC()),\n",
    "    (\"KNN\", KNeighborsClassifier()),\n",
    "    (\"RF\", RandomForestClassifier()),\n",
    "    (\"GNB\", GaussianNB()),\n",
    "]\n",
    "\n",
    "yy_train = np.argmax(y_train, 1)\n",
    "yy_test = np.argmax(y_test, 1)\n",
    "\n",
    "for name, model in models:\n",
    "    print(name)\n",
    "    start_time = time.perf_counter()\n",
    "    model.fit(X_train, yy_train)\n",
    "    y_pred = model.predict(X_test)\n",
    "    elapsed = time.perf_counter() - start_time\n",
    "    report = classification_report(y_pred=y_pred, y_true=yy_test)\n",
    "    print(elapsed)\n",
    "    print(report)"
   ]
  }
 ],
 "metadata": {
  "interpreter": {
   "hash": "6d4f2803d94aa9bccbca99dc8cc056a9dd166ab61120b5d7645e2e26893975c0"
  },
  "kernelspec": {
   "display_name": "Python 3.7.0 ('tf_3.7')",
   "language": "python",
   "name": "python3"
  },
  "language_info": {
   "codemirror_mode": {
    "name": "ipython",
    "version": 3
   },
   "file_extension": ".py",
   "mimetype": "text/x-python",
   "name": "python",
   "nbconvert_exporter": "python",
   "pygments_lexer": "ipython3",
   "version": "3.7.12"
  },
  "orig_nbformat": 4
 },
 "nbformat": 4,
 "nbformat_minor": 2
}
