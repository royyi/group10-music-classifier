{
 "cells": [
  {
   "cell_type": "code",
   "execution_count": 67,
   "metadata": {},
   "outputs": [],
   "source": [
    "import pandas as pd\n",
    "import numpy as np\n",
    "import matplotlib.pyplot as plt\n",
    "import seaborn as sns\n",
    "\n",
    "from sklearn.neural_network import MLPClassifier\n",
    "from sklearn.preprocessing import StandardScaler\n",
    "from sklearn.model_selection import train_test_split\n",
    "from sklearn.metrics import confusion_matrix, classification_report, accuracy_score\n",
    "\n",
    "\n",
    "import sys\n",
    "\n",
    "sys.path.append('../')\n",
    "\n",
    "from eda import utils"
   ]
  },
  {
   "cell_type": "code",
   "execution_count": 3,
   "metadata": {},
   "outputs": [],
   "source": [
    "tracks = utils.load('../data/fma_metadata/tracks.csv')\n",
    "feats = utils.load('../data/fma_metadata/features.csv')"
   ]
  },
  {
   "cell_type": "code",
   "execution_count": 339,
   "metadata": {},
   "outputs": [
    {
     "name": "stdout",
     "output_type": "stream",
     "text": [
      "Electronic             1000\n",
      "Hip-Hop                1000\n",
      "Instrumental           1000\n",
      "Pop                    1000\n",
      "Rock                   1000\n",
      "Blues                     0\n",
      "Classical                 0\n",
      "Country                   0\n",
      "Easy Listening            0\n",
      "Experimental              0\n",
      "Folk                      0\n",
      "International             0\n",
      "Jazz                      0\n",
      "Old-Time / Historic       0\n",
      "Soul-RnB                  0\n",
      "Spoken                    0\n",
      "Name: (track, genre_top), dtype: int64\n"
     ]
    }
   ],
   "source": [
    "small = tracks['set', 'subset'] <= 'small'\n",
    "\n",
    "X = feats.loc[small]\n",
    "y = tracks['track', 'genre_top'].loc[small]\n",
    "\n",
    "#uncomment for 5-class or 2-class\n",
    "y = y.loc[(y == 'Rock') | (y == 'Electronic') | (y == 'Instrumental') | (y == 'Hip-Hop') | (y == 'Pop')]\n",
    "#y = y.loc[(y == 'Rock') | (y == 'Electronic')]\n",
    "print(y.value_counts())\n",
    "\n",
    "X = X.loc[X.index.isin(y.index)]\n",
    "\n",
    "#uncomment for mfcc\n",
    "#col = X.columns.get_loc('mfcc')\n",
    "#X = X.iloc[:, col]\n",
    "\n",
    "X_train, X_test, y_train, y_test = train_test_split(X, y, train_size=0.8)"
   ]
  },
  {
   "cell_type": "code",
   "execution_count": 340,
   "metadata": {},
   "outputs": [],
   "source": [
    "sc = StandardScaler()\n",
    "X_train2 = X_train.copy()\n",
    "sc.fit(X_train)\n",
    "X_train = sc.transform(X_train)\n",
    "X_test = sc.transform(X_test)\n",
    "\n",
    "mlp = MLPClassifier(solver = 'sgd', random_state = 42, activation = 'relu', learning_rate_init = 0.1, batch_size = 300, hidden_layer_sizes = (200,100), max_iter = 100)\n",
    "mlp.fit(X_train, y_train)\n",
    "y_pred = mlp.predict(X_test)"
   ]
  },
  {
   "cell_type": "code",
   "execution_count": 307,
   "metadata": {},
   "outputs": [
    {
     "name": "stdout",
     "output_type": "stream",
     "text": [
      "['Electronic' 'Hip-Hop' 'Instrumental' 'Pop' 'Rock']\n"
     ]
    }
   ],
   "source": [
    "print(mlp.classes_)"
   ]
  },
  {
   "cell_type": "code",
   "execution_count": 341,
   "metadata": {},
   "outputs": [
    {
     "name": "stdout",
     "output_type": "stream",
     "text": [
      "Accuracy: 0.665\n",
      "\n",
      "Classification Report:\n",
      "              precision    recall  f1-score   support\n",
      "\n",
      "  Electronic       0.66      0.66      0.66       194\n",
      "     Hip-Hop       0.69      0.69      0.69       203\n",
      "Instrumental       0.74      0.71      0.72       211\n",
      "         Pop       0.52      0.61      0.56       182\n",
      "        Rock       0.73      0.64      0.69       210\n",
      "\n",
      "    accuracy                           0.67      1000\n",
      "   macro avg       0.67      0.66      0.66      1000\n",
      "weighted avg       0.67      0.67      0.67      1000\n",
      "\n"
     ]
    },
    {
     "data": {
      "image/png": "[encoded data removed]",
      "text/plain": [
       "<Figure size 1080x720 with 2 Axes>"
      ]
     },
     "metadata": {},
     "output_type": "display_data"
    }
   ],
   "source": [
    "print(\"Accuracy:\", accuracy_score(y_test, y_pred))\n",
    "print(\"\\nClassification Report:\")\n",
    "print(classification_report(y_test, y_pred))\n",
    "cf_mat = confusion_matrix(y_test, y_pred)\n",
    "sns.set(rc = {'figure.figsize':(15,10)})\n",
    "\n",
    "ax = sns.heatmap(cf_mat, annot=True, cmap='Blues', fmt='g')\n",
    "ax.set_xticklabels(mlp.classes_)\n",
    "kwargs = {'rotation': 'horizontal'}\n",
    "ax.set_yticklabels(mlp.classes_, **kwargs)\n",
    "\n",
    "ax.set_title('Confusion Matrix with labels\\n\\n')\n",
    "\n",
    "## Display the visualization of the Confusion Matrix.\n",
    "plt.show()"
   ]
  },
  {
   "cell_type": "code",
   "execution_count": 267,
   "metadata": {},
   "outputs": [
    {
     "name": "stderr",
     "output_type": "stream",
     "text": [
      "c:\\Users\\micha\\anaconda3\\envs\\env1\\lib\\site-packages\\sklearn\\neural_network\\_multilayer_perceptron.py:702: ConvergenceWarning: Stochastic Optimizer: Maximum iterations (100) reached and the optimization hasn't converged yet.\n",
      "  warnings.warn(\n",
      "c:\\Users\\micha\\anaconda3\\envs\\env1\\lib\\site-packages\\sklearn\\neural_network\\_multilayer_perceptron.py:702: ConvergenceWarning: Stochastic Optimizer: Maximum iterations (100) reached and the optimization hasn't converged yet.\n",
      "  warnings.warn(\n",
      "c:\\Users\\micha\\anaconda3\\envs\\env1\\lib\\site-packages\\sklearn\\neural_network\\_multilayer_perceptron.py:702: ConvergenceWarning: Stochastic Optimizer: Maximum iterations (100) reached and the optimization hasn't converged yet.\n",
      "  warnings.warn(\n",
      "c:\\Users\\micha\\anaconda3\\envs\\env1\\lib\\site-packages\\sklearn\\neural_network\\_multilayer_perceptron.py:702: ConvergenceWarning: Stochastic Optimizer: Maximum iterations (100) reached and the optimization hasn't converged yet.\n",
      "  warnings.warn(\n",
      "c:\\Users\\micha\\anaconda3\\envs\\env1\\lib\\site-packages\\sklearn\\neural_network\\_multilayer_perceptron.py:702: ConvergenceWarning: Stochastic Optimizer: Maximum iterations (100) reached and the optimization hasn't converged yet.\n",
      "  warnings.warn(\n",
      "c:\\Users\\micha\\anaconda3\\envs\\env1\\lib\\site-packages\\sklearn\\neural_network\\_multilayer_perceptron.py:702: ConvergenceWarning: Stochastic Optimizer: Maximum iterations (100) reached and the optimization hasn't converged yet.\n",
      "  warnings.warn(\n",
      "c:\\Users\\micha\\anaconda3\\envs\\env1\\lib\\site-packages\\sklearn\\neural_network\\_multilayer_perceptron.py:702: ConvergenceWarning: Stochastic Optimizer: Maximum iterations (100) reached and the optimization hasn't converged yet.\n",
      "  warnings.warn(\n",
      "c:\\Users\\micha\\anaconda3\\envs\\env1\\lib\\site-packages\\sklearn\\neural_network\\_multilayer_perceptron.py:702: ConvergenceWarning: Stochastic Optimizer: Maximum iterations (100) reached and the optimization hasn't converged yet.\n",
      "  warnings.warn(\n",
      "c:\\Users\\micha\\anaconda3\\envs\\env1\\lib\\site-packages\\sklearn\\neural_network\\_multilayer_perceptron.py:702: ConvergenceWarning: Stochastic Optimizer: Maximum iterations (100) reached and the optimization hasn't converged yet.\n",
      "  warnings.warn(\n",
      "c:\\Users\\micha\\anaconda3\\envs\\env1\\lib\\site-packages\\sklearn\\neural_network\\_multilayer_perceptron.py:702: ConvergenceWarning: Stochastic Optimizer: Maximum iterations (100) reached and the optimization hasn't converged yet.\n",
      "  warnings.warn(\n",
      "c:\\Users\\micha\\anaconda3\\envs\\env1\\lib\\site-packages\\sklearn\\neural_network\\_multilayer_perceptron.py:702: ConvergenceWarning: Stochastic Optimizer: Maximum iterations (100) reached and the optimization hasn't converged yet.\n",
      "  warnings.warn(\n",
      "c:\\Users\\micha\\anaconda3\\envs\\env1\\lib\\site-packages\\sklearn\\neural_network\\_multilayer_perceptron.py:702: ConvergenceWarning: Stochastic Optimizer: Maximum iterations (100) reached and the optimization hasn't converged yet.\n",
      "  warnings.warn(\n",
      "c:\\Users\\micha\\anaconda3\\envs\\env1\\lib\\site-packages\\sklearn\\neural_network\\_multilayer_perceptron.py:702: ConvergenceWarning: Stochastic Optimizer: Maximum iterations (100) reached and the optimization hasn't converged yet.\n",
      "  warnings.warn(\n",
      "c:\\Users\\micha\\anaconda3\\envs\\env1\\lib\\site-packages\\sklearn\\neural_network\\_multilayer_perceptron.py:702: ConvergenceWarning: Stochastic Optimizer: Maximum iterations (100) reached and the optimization hasn't converged yet.\n",
      "  warnings.warn(\n",
      "c:\\Users\\micha\\anaconda3\\envs\\env1\\lib\\site-packages\\sklearn\\neural_network\\_multilayer_perceptron.py:702: ConvergenceWarning: Stochastic Optimizer: Maximum iterations (100) reached and the optimization hasn't converged yet.\n",
      "  warnings.warn(\n",
      "c:\\Users\\micha\\anaconda3\\envs\\env1\\lib\\site-packages\\sklearn\\neural_network\\_multilayer_perceptron.py:702: ConvergenceWarning: Stochastic Optimizer: Maximum iterations (100) reached and the optimization hasn't converged yet.\n",
      "  warnings.warn(\n",
      "c:\\Users\\micha\\anaconda3\\envs\\env1\\lib\\site-packages\\sklearn\\neural_network\\_multilayer_perceptron.py:702: ConvergenceWarning: Stochastic Optimizer: Maximum iterations (100) reached and the optimization hasn't converged yet.\n",
      "  warnings.warn(\n",
      "c:\\Users\\micha\\anaconda3\\envs\\env1\\lib\\site-packages\\sklearn\\neural_network\\_multilayer_perceptron.py:702: ConvergenceWarning: Stochastic Optimizer: Maximum iterations (100) reached and the optimization hasn't converged yet.\n",
      "  warnings.warn(\n",
      "c:\\Users\\micha\\anaconda3\\envs\\env1\\lib\\site-packages\\sklearn\\neural_network\\_multilayer_perceptron.py:702: ConvergenceWarning: Stochastic Optimizer: Maximum iterations (100) reached and the optimization hasn't converged yet.\n",
      "  warnings.warn(\n",
      "c:\\Users\\micha\\anaconda3\\envs\\env1\\lib\\site-packages\\sklearn\\neural_network\\_multilayer_perceptron.py:702: ConvergenceWarning: Stochastic Optimizer: Maximum iterations (100) reached and the optimization hasn't converged yet.\n",
      "  warnings.warn(\n",
      "c:\\Users\\micha\\anaconda3\\envs\\env1\\lib\\site-packages\\sklearn\\neural_network\\_multilayer_perceptron.py:702: ConvergenceWarning: Stochastic Optimizer: Maximum iterations (100) reached and the optimization hasn't converged yet.\n",
      "  warnings.warn(\n",
      "c:\\Users\\micha\\anaconda3\\envs\\env1\\lib\\site-packages\\sklearn\\neural_network\\_multilayer_perceptron.py:702: ConvergenceWarning: Stochastic Optimizer: Maximum iterations (100) reached and the optimization hasn't converged yet.\n",
      "  warnings.warn(\n",
      "c:\\Users\\micha\\anaconda3\\envs\\env1\\lib\\site-packages\\sklearn\\neural_network\\_multilayer_perceptron.py:702: ConvergenceWarning: Stochastic Optimizer: Maximum iterations (100) reached and the optimization hasn't converged yet.\n",
      "  warnings.warn(\n"
     ]
    },
    {
     "name": "stdout",
     "output_type": "stream",
     "text": [
      "{'activation': 'logistic', 'batch_size': 100, 'hidden_layer_sizes': (200, 100), 'learning_rate_init': 0.1, 'max_iter': 100, 'random_state': 42, 'solver': 'sgd'}\n"
     ]
    }
   ],
   "source": [
    "from sklearn.model_selection import GridSearchCV\n",
    "\n",
    "learning_rate_init = [0.1, 0.2, 0.3]\n",
    "max_iter = [100, 300]\n",
    "hidden_layer_sizes = [(200,100), (200,50), (100,50)]\n",
    "solver = ['sgd']\n",
    "random_state = [42]\n",
    "activation = ['logistic', 'relu']\n",
    "batch_size = [100, 300]\n",
    "\n",
    "\n",
    "# Make a dictionary of the grid search parameters\n",
    "param_grid = dict(learning_rate_init=learning_rate_init, max_iter=max_iter, hidden_layer_sizes=hidden_layer_sizes, solver=solver, random_state=random_state, activation=activation, batch_size=batch_size)\n",
    "\n",
    "# Build and fit the GridSearchCV\n",
    "grid = GridSearchCV(estimator=mlp, param_grid=param_grid)\n",
    "\n",
    "grid.fit(X_train, y_train)\n",
    "print(grid.best_params_)"
   ]
  },
  {
   "cell_type": "code",
   "execution_count": 268,
   "metadata": {},
   "outputs": [
    {
     "name": "stdout",
     "output_type": "stream",
     "text": [
      "Accuracy: 0.571875\n",
      "\n",
      "Classification Report:\n",
      "               precision    recall  f1-score   support\n",
      "\n",
      "   Electronic       0.56      0.55      0.56       201\n",
      " Experimental       0.46      0.40      0.43       194\n",
      "         Folk       0.61      0.67      0.64       209\n",
      "      Hip-Hop       0.64      0.59      0.61       192\n",
      " Instrumental       0.57      0.57      0.57       198\n",
      "International       0.63      0.72      0.67       212\n",
      "          Pop       0.45      0.38      0.41       201\n",
      "         Rock       0.60      0.67      0.64       193\n",
      "\n",
      "     accuracy                           0.57      1600\n",
      "    macro avg       0.57      0.57      0.57      1600\n",
      " weighted avg       0.57      0.57      0.57      1600\n",
      "\n"
     ]
    },
    {
     "data": {
      "image/png": "[encoded data removed]",
      "text/plain": [
       "<Figure size 1080x720 with 2 Axes>"
      ]
     },
     "metadata": {},
     "output_type": "display_data"
    }
   ],
   "source": [
    "grid_pred = grid.predict(X_test)\n",
    "\n",
    "print(\"Accuracy:\", accuracy_score(y_test, grid_pred))\n",
    "print(\"\\nClassification Report:\")\n",
    "print(classification_report(y_test, grid_pred))\n",
    "cf_mat = confusion_matrix(y_test, grid_pred)\n",
    "sns.set(rc = {'figure.figsize':(15,10)})\n",
    "\n",
    "ax = sns.heatmap(cf_mat, annot=True, cmap='Blues', fmt='g')\n",
    "ax.set_xticklabels(mlp.classes_)\n",
    "kwargs = {'rotation': 'horizontal'}\n",
    "ax.set_yticklabels(mlp.classes_, **kwargs)\n",
    "\n",
    "ax.set_title('Confusion Matrix with labels\\n\\n')\n",
    "\n",
    "## Display the visualization of the Confusion Matrix.\n",
    "plt.show()"
   ]
  },
  {
   "cell_type": "code",
   "execution_count": 195,
   "metadata": {},
   "outputs": [],
   "source": [
    "import pickle\n",
    "\n",
    "mlp_file = 'mlp_5_class_model.pkl'\n",
    "pickle.dump(mlp, open(mlp_file, 'wb'))\n",
    "\n",
    "sc = StandardScaler()\n",
    "sc.fit(X_train2)\n",
    "    \n",
    "sc_file = 'mlp_5_class_sc.pkl'\n",
    "pickle.dump(sc, open(sc_file, 'wb'))"
   ]
  },
  {
   "cell_type": "code",
   "execution_count": 309,
   "metadata": {},
   "outputs": [],
   "source": [
    "import IPython.display as ipd\n",
    "import librosa\n",
    "import librosa.display\n",
    "import numpy as np\n",
    "import pandas as pd\n",
    "from scipy import stats\n",
    "from pandas import DataFrame\n",
    "import random"
   ]
  },
  {
   "cell_type": "code",
   "execution_count": 328,
   "metadata": {},
   "outputs": [
    {
     "name": "stdout",
     "output_type": "stream",
     "text": [
      "File: ../feature extraction/files/3.mp3\n"
     ]
    },
    {
     "name": "stderr",
     "output_type": "stream",
     "text": [
      "c:\\Users\\micha\\anaconda3\\envs\\env1\\lib\\site-packages\\librosa\\util\\decorators.py:88: UserWarning: PySoundFile failed. Trying audioread instead.\n",
      "  return f(*args, **kwargs)\n"
     ]
    },
    {
     "name": "stdout",
     "output_type": "stream",
     "text": [
      "Duration: 240.91s, 10624000 samples\n"
     ]
    }
   ],
   "source": [
    "#filename = \"../feature extraction/files/1.mp3\"\n",
    "#filename = \"../feature extraction/files/2.mp3\"\n",
    "filename = \"../feature extraction/files/3.mp3\"\n",
    "#filename = \"../feature extraction/files/4.mp3\"\n",
    "#filename = \"../feature extraction/files/5.mp3\"\n",
    "#filename = \"../feature extraction/files/6.mp3\"\n",
    "\n",
    "print('File: {}'.format(filename))\n",
    "x, sr = librosa.load(filename, sr=None, mono=True)\n",
    "\n",
    "#print(x.shape[-1]/sr)\n",
    "if (x.shape[-1]/sr > 30):\n",
    "    start = random.randint(0, int(x.shape[-1]/sr)-30)\n",
    "    duration = 30\n",
    "else:\n",
    "    start = 0\n",
    "    duration = x.shape[-1]/sr\n",
    "#print(start)\n",
    "\n",
    "#x, sr = librosa.load(filename, sr=None, mono=True, offset=start, duration=duration)\n",
    "\n",
    "print('Duration: {:.2f}s, {} samples'.format(x.shape[-1] / sr, x.size))"
   ]
  },
  {
   "cell_type": "code",
   "execution_count": 329,
   "metadata": {},
   "outputs": [],
   "source": [
    "def columns():\n",
    "    feature_sizes = dict(chroma_stft=12, chroma_cqt=12, chroma_cens=12,\n",
    "                         tonnetz=6, mfcc=20, rmse=1, zcr=1,\n",
    "                         spectral_centroid=1, spectral_bandwidth=1,\n",
    "                         spectral_contrast=7, spectral_rolloff=1)\n",
    "    moments = ('mean', 'std', 'skew', 'kurtosis', 'median', 'min', 'max')\n",
    "\n",
    "    columns = []\n",
    "    for name, size in feature_sizes.items():\n",
    "        for moment in moments:\n",
    "            it = ((name, moment, '{:02d}'.format(i+1)) for i in range(size))\n",
    "            columns.extend(it)\n",
    "\n",
    "    names = ('feature', 'statistics', 'number')\n",
    "    columns = pd.MultiIndex.from_tuples(columns, names=names)\n",
    "\n",
    "    return columns.sort_values()"
   ]
  },
  {
   "cell_type": "code",
   "execution_count": 330,
   "metadata": {},
   "outputs": [],
   "source": [
    "features = pd.Series(index=columns(), dtype=np.float32)\n",
    "\n",
    "def feature_stats(name, values):\n",
    "        features[name, 'mean'] = np.mean(values, axis=1)\n",
    "        features[name, 'std'] = np.std(values, axis=1)\n",
    "        features[name, 'skew'] = stats.skew(values, axis=1)\n",
    "        features[name, 'kurtosis'] = stats.kurtosis(values, axis=1)\n",
    "        features[name, 'median'] = np.median(values, axis=1)\n",
    "        features[name, 'min'] = np.min(values, axis=1)\n",
    "        features[name, 'max'] = np.max(values, axis=1)"
   ]
  },
  {
   "cell_type": "code",
   "execution_count": 331,
   "metadata": {},
   "outputs": [],
   "source": [
    "f = librosa.feature.zero_crossing_rate(x, frame_length=2048, hop_length=512)\n",
    "feature_stats('zcr', f)\n",
    "\n",
    "cqt = np.abs(librosa.cqt(x, sr=sr, hop_length=512, bins_per_octave=12,\n",
    "                                 n_bins=7*12, tuning=None))\n",
    "assert cqt.shape[0] == 7 * 12\n",
    "assert np.ceil(len(x)/512) <= cqt.shape[1] <= np.ceil(len(x)/512)+1\n",
    "\n",
    "f = librosa.feature.chroma_cqt(C=cqt, n_chroma=12, n_octaves=7)\n",
    "feature_stats('chroma_cqt', f)\n",
    "f = librosa.feature.chroma_cens(C=cqt, n_chroma=12, n_octaves=7)\n",
    "feature_stats('chroma_cens', f)\n",
    "f = librosa.feature.tonnetz(chroma=f)\n",
    "feature_stats('tonnetz', f)\n",
    "\n",
    "del cqt\n",
    "stft = np.abs(librosa.stft(x, n_fft=2048, hop_length=512))\n",
    "assert stft.shape[0] == 1 + 2048 // 2\n",
    "assert np.ceil(len(x)/512) <= stft.shape[1] <= np.ceil(len(x)/512)+1\n",
    "del x\n",
    "\n",
    "f = librosa.feature.chroma_stft(S=stft**2, n_chroma=12)\n",
    "feature_stats('chroma_stft', f)\n",
    "\n",
    "f = librosa.feature.rms(S=stft)\n",
    "feature_stats('rmse', f)\n",
    "\n",
    "f = librosa.feature.spectral_centroid(S=stft)\n",
    "feature_stats('spectral_centroid', f)\n",
    "f = librosa.feature.spectral_bandwidth(S=stft)\n",
    "feature_stats('spectral_bandwidth', f)\n",
    "f = librosa.feature.spectral_contrast(S=stft, n_bands=6)\n",
    "feature_stats('spectral_contrast', f)\n",
    "f = librosa.feature.spectral_rolloff(S=stft)\n",
    "feature_stats('spectral_rolloff', f)\n",
    "\n",
    "mel = librosa.feature.melspectrogram(sr=sr, S=stft**2)\n",
    "del stft\n",
    "f = librosa.feature.mfcc(S=librosa.power_to_db(mel), n_mfcc=20)\n",
    "feature_stats('mfcc', f)"
   ]
  },
  {
   "cell_type": "code",
   "execution_count": 332,
   "metadata": {},
   "outputs": [
    {
     "name": "stdout",
     "output_type": "stream",
     "text": [
      "(1, 518)\n"
     ]
    }
   ],
   "source": [
    "features = features.to_frame().T\n",
    "print(features.shape)"
   ]
  },
  {
   "cell_type": "code",
   "execution_count": 333,
   "metadata": {},
   "outputs": [
    {
     "name": "stdout",
     "output_type": "stream",
     "text": [
      "['Electronic']\n",
      "['Folk']\n"
     ]
    }
   ],
   "source": [
    "sc.fit(X_train2)\n",
    "features = sc.transform(features)\n",
    "#print(features)\n",
    "mlpprediction = mlp.predict(features)\n",
    "print(mlpprediction)\n",
    "bestprediction = grid.predict(features)\n",
    "print(bestprediction)"
   ]
  }
 ],
 "metadata": {
  "interpreter": {
   "hash": "fb75d2a3eb328cee033dc2d4bbeb2956790363e0a5eb3cff16c742fa53f1096a"
  },
  "kernelspec": {
   "display_name": "Python 3.10.4 ('env1')",
   "language": "python",
   "name": "python3"
  },
  "language_info": {
   "codemirror_mode": {
    "name": "ipython",
    "version": 3
   },
   "file_extension": ".py",
   "mimetype": "text/x-python",
   "name": "python",
   "nbconvert_exporter": "python",
   "pygments_lexer": "ipython3",
   "version": "3.10.4"
  },
  "orig_nbformat": 4
 },
 "nbformat": 4,
 "nbformat_minor": 2
}
