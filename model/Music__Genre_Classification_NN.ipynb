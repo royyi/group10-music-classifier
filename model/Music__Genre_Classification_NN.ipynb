{
 "cells": [
  {
   "cell_type": "code",
   "execution_count": 25,
   "metadata": {
    "pycharm": {
     "is_executing": true
    }
   },
   "outputs": [],
   "source": [
    "#Sources used to build the neural network include the following: \n",
    "#Lecture 6, Discussion 4, Discussion 5 and the following Github Repositories: (FMA) https://github.com/mdeff/fma and (Music Classification) https://github.com/saiteki-kai/music-classification\n",
    "\n",
    "import numpy as np\n",
    "import pandas as pd\n",
    "import sklearn as skl\n",
    "import sklearn.utils, sklearn.preprocessing, sklearn.decomposition, sklearn.svm\n",
    "import utils\n",
    "from sklearn.preprocessing import StandardScaler, LabelEncoder\n",
    "import tensorflow as tf\n",
    "from keras import layers, Sequential, callbacks\n",
    "from keras.regularizers import l2\n",
    "import matplotlib.pyplot as plt\n",
    "%matplotlib inline\n",
    "from nn import plot_history\n",
    "from sklearn.metrics import ConfusionMatrixDisplay, confusion_matrix, classification_report"
   ]
  },
  {
   "cell_type": "code",
   "execution_count": 26,
   "metadata": {},
   "outputs": [],
   "source": [
    "#Load the fma archive data set by declaring tracks and features\n",
    "\n",
    "tracks = utils.load('tracks.csv')\n",
    "features = utils.load('features.csv')\n",
    "#tracks.drop(tracks[tracks('track', 'genre_top') == ''].index, inplace = True)"
   ]
  },
  {
   "cell_type": "code",
   "execution_count": 27,
   "metadata": {},
   "outputs": [],
   "source": [
    "#Process the data set\n",
    "#Here we are using the small data set\n",
    "\n",
    "subset = tracks['set', 'subset'] <= 'small'\n",
    "#subset = tracks.index[tracks['set', 'subset'] <= 'medium']\n",
    "train = tracks[\"set\", \"split\"] == \"training\"\n",
    "val = tracks[\"set\", \"split\"] == \"validation\"\n",
    "test = tracks[\"set\", \"split\"] == \"test\"\n",
    "\n",
    "y_train = tracks.loc[subset & train, (\"track\", \"genre_top\")]\n",
    "y_val = tracks.loc[subset & val, (\"track\", \"genre_top\")]\n",
    "y_test = tracks.loc[subset & test, (\"track\", \"genre_top\")]\n",
    "\n",
    "X_train = features.loc[subset & train]\n",
    "X_val = features.loc[subset & val]\n",
    "X_test = features.loc[subset & test]\n",
    "\n",
    "y_train = y_train.astype(pd.CategoricalDtype(categories=[\"Rock\", \"Pop\", \"Folk\", \"Hip-Hop\", \"Electronic\", \"Experimental\", \"Instrumental\", \"International\"]))\n",
    "\n",
    "X_train.shape, y_train.shape, X_val.shape, y_val.shape, X_test.shape, y_test.shape\n",
    "y_train_values = y_train.value_counts()\n",
    "y_train_attributes = list(y_train.unique())\n",
    "y_length = len(y_train_values)"
   ]
  },
  {
   "cell_type": "code",
   "execution_count": 28,
   "metadata": {},
   "outputs": [
    {
     "name": "stderr",
     "output_type": "stream",
     "text": [
      "c:\\Users\\arman\\anaconda3\\envs\\tf_3.7\\lib\\site-packages\\sklearn\\utils\\validation.py:1692: FutureWarning: Feature names only support names that are all strings. Got feature names with dtypes: ['tuple']. An error will be raised in 1.2.\n",
      "  FutureWarning,\n",
      "c:\\Users\\arman\\anaconda3\\envs\\tf_3.7\\lib\\site-packages\\sklearn\\utils\\validation.py:1692: FutureWarning: Feature names only support names that are all strings. Got feature names with dtypes: ['tuple']. An error will be raised in 1.2.\n",
      "  FutureWarning,\n",
      "c:\\Users\\arman\\anaconda3\\envs\\tf_3.7\\lib\\site-packages\\sklearn\\utils\\validation.py:1692: FutureWarning: Feature names only support names that are all strings. Got feature names with dtypes: ['tuple']. An error will be raised in 1.2.\n",
      "  FutureWarning,\n",
      "c:\\Users\\arman\\anaconda3\\envs\\tf_3.7\\lib\\site-packages\\sklearn\\utils\\validation.py:1692: FutureWarning: Feature names only support names that are all strings. Got feature names with dtypes: ['tuple']. An error will be raised in 1.2.\n",
      "  FutureWarning,\n"
     ]
    }
   ],
   "source": [
    "#Normalize the data set using StandardScaler()\n",
    "\n",
    "scaler = StandardScaler()\n",
    "scaler.fit(X_train)\n",
    "\n",
    "X_train = scaler.transform(X_train)\n",
    "X_val = scaler.transform(X_val)\n",
    "X_test = scaler.transform(X_test)\n",
    "\n",
    "lab_encoder = LabelEncoder()\n",
    "lab_encoder.fit(y_train)\n",
    "\n",
    "y_train = lab_encoder.transform(y_train)\n",
    "y_val = lab_encoder.transform(y_val)\n",
    "y_test = lab_encoder.transform(y_test)\n",
    "\n",
    "y_train = tf.keras.utils.to_categorical(y_train, 8)\n",
    "y_val = tf.keras.utils.to_categorical(y_val, 8)\n",
    "y_test = tf.keras.utils.to_categorical(y_test, 8)"
   ]
  },
  {
   "cell_type": "code",
   "execution_count": 29,
   "metadata": {},
   "outputs": [
    {
     "name": "stdout",
     "output_type": "stream",
     "text": [
      "Model: \"sequential\"\n",
      "_________________________________________________________________\n",
      "Layer (type)                 Output Shape              Param #   \n",
      "=================================================================\n",
      "dense (Dense)                (None, 512)               265728    \n",
      "_________________________________________________________________\n",
      "dense_1 (Dense)              (None, 256)               131328    \n",
      "_________________________________________________________________\n",
      "dense_2 (Dense)              (None, 8)                 2056      \n",
      "=================================================================\n",
      "Total params: 399,112\n",
      "Trainable params: 399,112\n",
      "Non-trainable params: 0\n",
      "_________________________________________________________________\n",
      "None\n",
      "Epoch 1/200\n",
      "200/200 [==============================] - 5s 9ms/step - loss: 16.9451 - accuracy: 0.4122 - val_loss: 14.7280 - val_accuracy: 0.4963\n",
      "Epoch 2/200\n",
      "200/200 [==============================] - 4s 21ms/step - loss: 12.8356 - accuracy: 0.5533 - val_loss: 11.2996 - val_accuracy: 0.5113\n",
      "Epoch 3/200\n",
      "200/200 [==============================] - 9s 45ms/step - loss: 9.7693 - accuracy: 0.5970 - val_loss: 8.6917 - val_accuracy: 0.5213\n",
      "Epoch 4/200\n",
      "200/200 [==============================] - 2s 11ms/step - loss: 7.4723 - accuracy: 0.6261 - val_loss: 6.7119 - val_accuracy: 0.5387\n",
      "Epoch 5/200\n",
      "200/200 [==============================] - 8s 42ms/step - loss: 5.7752 - accuracy: 0.6347 - val_loss: 5.3071 - val_accuracy: 0.5312\n",
      "Epoch 6/200\n",
      "200/200 [==============================] - 6s 29ms/step - loss: 4.5355 - accuracy: 0.6444 - val_loss: 4.2461 - val_accuracy: 0.5537\n",
      "Epoch 7/200\n",
      "200/200 [==============================] - 2s 11ms/step - loss: 3.6400 - accuracy: 0.6534 - val_loss: 3.4892 - val_accuracy: 0.5537\n",
      "Epoch 8/200\n",
      "200/200 [==============================] - 4s 18ms/step - loss: 3.0027 - accuracy: 0.6591 - val_loss: 2.9746 - val_accuracy: 0.5675\n",
      "Epoch 9/200\n",
      "200/200 [==============================] - 5s 23ms/step - loss: 2.5543 - accuracy: 0.6652 - val_loss: 2.6032 - val_accuracy: 0.5537\n",
      "Epoch 10/200\n",
      "200/200 [==============================] - 5s 24ms/step - loss: 2.2394 - accuracy: 0.6703 - val_loss: 2.3397 - val_accuracy: 0.5638\n",
      "Epoch 11/200\n",
      "200/200 [==============================] - 4s 21ms/step - loss: 2.0188 - accuracy: 0.6681 - val_loss: 2.1802 - val_accuracy: 0.5600\n",
      "Epoch 12/200\n",
      "200/200 [==============================] - 2s 12ms/step - loss: 1.8655 - accuracy: 0.6730 - val_loss: 2.0351 - val_accuracy: 0.5750\n",
      "Epoch 13/200\n",
      "200/200 [==============================] - 3s 14ms/step - loss: 1.7599 - accuracy: 0.6741 - val_loss: 1.9728 - val_accuracy: 0.5525\n",
      "Epoch 14/200\n",
      "200/200 [==============================] - 2s 10ms/step - loss: 1.6854 - accuracy: 0.6731 - val_loss: 1.8934 - val_accuracy: 0.5612\n",
      "Epoch 15/200\n",
      "200/200 [==============================] - 3s 14ms/step - loss: 1.6351 - accuracy: 0.6733 - val_loss: 1.8764 - val_accuracy: 0.5550\n",
      "Epoch 16/200\n",
      "200/200 [==============================] - 2s 9ms/step - loss: 1.5950 - accuracy: 0.6787 - val_loss: 1.8671 - val_accuracy: 0.5500\n",
      "Epoch 17/200\n",
      "200/200 [==============================] - 3s 14ms/step - loss: 1.5697 - accuracy: 0.6745 - val_loss: 1.7819 - val_accuracy: 0.5650\n",
      "Epoch 18/200\n",
      "200/200 [==============================] - 2s 9ms/step - loss: 1.5512 - accuracy: 0.6728 - val_loss: 1.7993 - val_accuracy: 0.5587\n",
      "Epoch 19/200\n",
      "200/200 [==============================] - 3s 14ms/step - loss: 1.5363 - accuracy: 0.6777 - val_loss: 1.7922 - val_accuracy: 0.5562\n",
      "Epoch 20/200\n",
      "200/200 [==============================] - 2s 12ms/step - loss: 1.5266 - accuracy: 0.6720 - val_loss: 1.7828 - val_accuracy: 0.5663\n",
      "Epoch 21/200\n",
      "200/200 [==============================] - 4s 18ms/step - loss: 1.5168 - accuracy: 0.6775 - val_loss: 1.8036 - val_accuracy: 0.5437\n",
      "Epoch 22/200\n",
      "200/200 [==============================] - 7s 33ms/step - loss: 1.5093 - accuracy: 0.6802 - val_loss: 1.7567 - val_accuracy: 0.5562\n",
      "Epoch 23/200\n",
      "200/200 [==============================] - 2s 9ms/step - loss: 1.5028 - accuracy: 0.6767 - val_loss: 1.7918 - val_accuracy: 0.5475\n",
      "Epoch 24/200\n",
      "200/200 [==============================] - 1s 7ms/step - loss: 1.5012 - accuracy: 0.6784 - val_loss: 1.7680 - val_accuracy: 0.5512\n",
      "Epoch 25/200\n",
      "200/200 [==============================] - 2s 9ms/step - loss: 1.4955 - accuracy: 0.6786 - val_loss: 1.7608 - val_accuracy: 0.5412\n",
      "Epoch 26/200\n",
      "200/200 [==============================] - 2s 9ms/step - loss: 1.4928 - accuracy: 0.6802 - val_loss: 1.7269 - val_accuracy: 0.5750\n",
      "Epoch 27/200\n",
      "200/200 [==============================] - 2s 9ms/step - loss: 1.4883 - accuracy: 0.6784 - val_loss: 1.7711 - val_accuracy: 0.5575\n",
      "Epoch 28/200\n",
      "200/200 [==============================] - 2s 11ms/step - loss: 1.4837 - accuracy: 0.6811 - val_loss: 1.7377 - val_accuracy: 0.5688\n",
      "Epoch 29/200\n",
      "200/200 [==============================] - 2s 12ms/step - loss: 1.4842 - accuracy: 0.6792 - val_loss: 1.7762 - val_accuracy: 0.5437\n",
      "Epoch 30/200\n",
      "200/200 [==============================] - 1s 7ms/step - loss: 1.4808 - accuracy: 0.6800 - val_loss: 1.7434 - val_accuracy: 0.5450\n",
      "Epoch 31/200\n",
      "200/200 [==============================] - 2s 10ms/step - loss: 1.4797 - accuracy: 0.6814 - val_loss: 1.7157 - val_accuracy: 0.5775\n",
      "Epoch 32/200\n",
      "200/200 [==============================] - 2s 11ms/step - loss: 1.4790 - accuracy: 0.6773 - val_loss: 1.7480 - val_accuracy: 0.5562\n",
      "Epoch 33/200\n",
      "200/200 [==============================] - 1s 7ms/step - loss: 1.4757 - accuracy: 0.6817 - val_loss: 1.7494 - val_accuracy: 0.5562\n",
      "Epoch 34/200\n",
      "200/200 [==============================] - 2s 12ms/step - loss: 1.4736 - accuracy: 0.6791 - val_loss: 1.7378 - val_accuracy: 0.5562\n",
      "Epoch 35/200\n",
      "200/200 [==============================] - 2s 12ms/step - loss: 1.4728 - accuracy: 0.6783 - val_loss: 1.7358 - val_accuracy: 0.5612\n",
      "Epoch 36/200\n",
      "200/200 [==============================] - 2s 12ms/step - loss: 1.4726 - accuracy: 0.6787 - val_loss: 1.7265 - val_accuracy: 0.5562\n"
     ]
    }
   ],
   "source": [
    "#Using optimal parameters (512, 256) to build the NN yielding the highest accuracy \n",
    "tf.keras.backend.clear_session()\n",
    "\n",
    "model = Sequential([layers.Dense(512, input_shape=(518,), activation=\"relu\", kernel_regularizer=l2(0.02)), layers.Dense(256, activation=\"relu\", kernel_regularizer=l2(0.02)), layers.Dense(y_length, activation=\"softmax\", kernel_regularizer=l2(0.02))])\n",
    "model.compile(loss=\"categorical_crossentropy\", optimizer=tf.keras.optimizers.Adam(1e-4), metrics=[\"accuracy\"])\n",
    "sequential_model = model.summary()\n",
    "\n",
    "print(sequential_model)\n",
    "\n",
    "batch_size = 32\n",
    "epochs=200\n",
    "early_stop = tf.keras.callbacks.EarlyStopping(monitor=\"val_loss\", patience=5, restore_best_weights=True)\n",
    "history = model.fit( X_train,y_train, batch_size=batch_size, epochs=epochs, validation_data=(X_val, y_val), callbacks=[early_stop])"
   ]
  },
  {
   "cell_type": "code",
   "execution_count": 30,
   "metadata": {},
   "outputs": [
    {
     "name": "stdout",
     "output_type": "stream",
     "text": [
      "25/25 [==============================] - 0s 3ms/step - loss: 1.9202 - accuracy: 0.4837\n"
     ]
    },
    {
     "name": "stderr",
     "output_type": "stream",
     "text": [
      "c:\\Users\\arman\\Documents\\ECS 171 ML Project\\ML G\\music-classification-master\\notebooks\\nn.py:24: UserWarning: Matplotlib is currently using module://matplotlib_inline.backend_inline, which is a non-GUI backend, so cannot show the figure.\n",
      "  fig.show()\n"
     ]
    },
    {
     "ename": "NameError",
     "evalue": "name 'classes' is not defined",
     "output_type": "error",
     "traceback": [
      "\u001b[1;31m---------------------------------------------------------------------------\u001b[0m",
      "\u001b[1;31mNameError\u001b[0m                                 Traceback (most recent call last)",
      "\u001b[1;32mC:\\Users\\arman\\AppData\\Local\\Temp\\ipykernel_14720\\2073687863.py\u001b[0m in \u001b[0;36m<module>\u001b[1;34m\u001b[0m\n\u001b[0;32m      7\u001b[0m \u001b[0mc_matrix\u001b[0m \u001b[1;33m=\u001b[0m \u001b[0mconfusion_matrix\u001b[0m\u001b[1;33m(\u001b[0m\u001b[0mnp\u001b[0m\u001b[1;33m.\u001b[0m\u001b[0margmax\u001b[0m\u001b[1;33m(\u001b[0m\u001b[0my_pred\u001b[0m\u001b[1;33m,\u001b[0m \u001b[1;36m1\u001b[0m\u001b[1;33m)\u001b[0m\u001b[1;33m,\u001b[0m \u001b[0mnp\u001b[0m\u001b[1;33m.\u001b[0m\u001b[0margmax\u001b[0m\u001b[1;33m(\u001b[0m\u001b[0my_test\u001b[0m\u001b[1;33m,\u001b[0m \u001b[1;36m1\u001b[0m\u001b[1;33m)\u001b[0m\u001b[1;33m)\u001b[0m\u001b[1;33m\u001b[0m\u001b[1;33m\u001b[0m\u001b[0m\n\u001b[0;32m      8\u001b[0m \u001b[0mfig\u001b[0m\u001b[1;33m,\u001b[0m \u001b[0max\u001b[0m \u001b[1;33m=\u001b[0m \u001b[0mplt\u001b[0m\u001b[1;33m.\u001b[0m\u001b[0msubplots\u001b[0m\u001b[1;33m(\u001b[0m\u001b[0mfigsize\u001b[0m\u001b[1;33m=\u001b[0m\u001b[1;33m(\u001b[0m\u001b[1;36m10\u001b[0m\u001b[1;33m,\u001b[0m\u001b[1;36m10\u001b[0m\u001b[1;33m)\u001b[0m\u001b[1;33m)\u001b[0m\u001b[1;33m\u001b[0m\u001b[1;33m\u001b[0m\u001b[0m\n\u001b[1;32m----> 9\u001b[1;33m \u001b[0mdisp\u001b[0m \u001b[1;33m=\u001b[0m \u001b[0mConfusionMatrixDisplay\u001b[0m\u001b[1;33m(\u001b[0m\u001b[0mc_matrix\u001b[0m\u001b[1;33m,\u001b[0m \u001b[0mdisplay_labels\u001b[0m\u001b[1;33m=\u001b[0m\u001b[0mclasses\u001b[0m\u001b[1;33m)\u001b[0m\u001b[1;33m\u001b[0m\u001b[1;33m\u001b[0m\u001b[0m\n\u001b[0m\u001b[0;32m     10\u001b[0m \u001b[0mdisp\u001b[0m\u001b[1;33m.\u001b[0m\u001b[0mplot\u001b[0m\u001b[1;33m(\u001b[0m\u001b[0max\u001b[0m\u001b[1;33m=\u001b[0m\u001b[0max\u001b[0m\u001b[1;33m,\u001b[0m \u001b[0mxticks_rotation\u001b[0m\u001b[1;33m=\u001b[0m\u001b[1;36m90\u001b[0m\u001b[1;33m,\u001b[0m \u001b[0mcmap\u001b[0m \u001b[1;33m=\u001b[0m \u001b[1;34m'Blues'\u001b[0m\u001b[1;33m)\u001b[0m\u001b[1;33m\u001b[0m\u001b[1;33m\u001b[0m\u001b[0m\n",
      "\u001b[1;31mNameError\u001b[0m: name 'classes' is not defined"
     ]
    },
    {
     "data": {
      "image/png": "[encoded data removed]",
      "text/plain": [
       "<Figure size 1080x360 with 2 Axes>"
      ]
     },
     "metadata": {
      "needs_background": "light"
     },
     "output_type": "display_data"
    },
    {
     "data": {
      "image/png": "[encoded data removed]",
      "text/plain": [
       "<Figure size 720x720 with 1 Axes>"
      ]
     },
     "metadata": {
      "needs_background": "light"
     },
     "output_type": "display_data"
    }
   ],
   "source": [
    "#Plot the Loss and Accuracy Functions\n",
    "plot_history(history.history)\n",
    "loss, acc = model.evaluate(X_test, y_test, batch_size=batch_size)\n",
    "\n",
    "#Display the Confusion Matrix\n",
    "y_pred = model.predict(X_test, batch_size=batch_size)\n",
    "c_matrix = confusion_matrix(np.argmax(y_pred, 1), np.argmax(y_test, 1))\n",
    "fig, ax = plt.subplots(figsize=(10,10))\n",
    "disp = ConfusionMatrixDisplay(c_matrix, display_labels=classes)\n",
    "disp.plot(ax=ax, xticks_rotation=90, cmap = 'Blues')"
   ]
  }
 ],
 "metadata": {
  "interpreter": {
   "hash": "6d4f2803d94aa9bccbca99dc8cc056a9dd166ab61120b5d7645e2e26893975c0"
  },
  "kernelspec": {
   "display_name": "Python 3.7.0 ('tf_3.7')",
   "language": "python",
   "name": "python3"
  },
  "language_info": {
   "codemirror_mode": {
    "name": "ipython",
    "version": 3
   },
   "file_extension": ".py",
   "mimetype": "text/x-python",
   "name": "python",
   "nbconvert_exporter": "python",
   "pygments_lexer": "ipython3",
   "version": "3.7.12"
  },
  "orig_nbformat": 4
 },
 "nbformat": 4,
 "nbformat_minor": 2
}
