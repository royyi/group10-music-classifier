{
 "cells": [
  {
   "cell_type": "code",
   "execution_count": 12,
   "metadata": {},
   "outputs": [],
   "source": [
    "import pandas as pd\n",
    "import matplotlib.pyplot as plt\n",
    "import pandas as pd\n",
    "import seaborn as sns\n",
    "from sklearn.preprocessing import StandardScaler\n",
    "from sklearn.metrics import confusion_matrix, classification_report\n",
    "\n",
    "import sys\n",
    "sys.path.append('../')\n",
    "from dependencies import utils"
   ]
  },
  {
   "cell_type": "code",
   "execution_count": 13,
   "metadata": {},
   "outputs": [],
   "source": [
    "tracks = utils.load('../data/fma_metadata/tracks.csv')\n",
    "features = utils.load('../data/fma_metadata/features.csv')"
   ]
  },
  {
   "cell_type": "code",
   "execution_count": 14,
   "metadata": {},
   "outputs": [
    {
     "data": {
      "text/plain": [
       "(25360, 518)"
      ]
     },
     "execution_count": 14,
     "metadata": {},
     "output_type": "execute_result"
    }
   ],
   "source": [
    "from sklearn.preprocessing import StandardScaler\n",
    "\n",
    "\n",
    "def get_all():\n",
    "    large = tracks['set', 'subset'] <= 'large'\n",
    "\n",
    "    genre1 = tracks['track', 'genre_top'] == 'Rock'\n",
    "    genre2 = tracks['track', 'genre_top'] == 'Pop'\n",
    "    genre3 = tracks['track', 'genre_top'] == 'Electronic'\n",
    "    genre4 = tracks['track', 'genre_top'] == 'Instrumental'\n",
    "    genre5 = tracks['track', 'genre_top'] == 'Hip-Hop'\n",
    "\n",
    "    train = tracks['set', 'split'] == 'training'\n",
    "    val = tracks['set', 'split'] == 'validation'\n",
    "    test = tracks['set', 'split'] == 'test'\n",
    "\n",
    "    y_train = tracks.loc[large & train & (\n",
    "        genre1 | genre2 | genre3 | genre4 | genre5), ('track', 'genre_top')]\n",
    "    y_test = tracks.loc[large & test & (\n",
    "        genre1 | genre2 | genre3 | genre4 | genre5), ('track', 'genre_top')]\n",
    "    X_train = features.loc[large & train & (\n",
    "        genre1 | genre2 | genre3 | genre4 | genre5)]\n",
    "    X_test = features.loc[large & test & (\n",
    "        genre1 | genre2 | genre3 | genre4 | genre5)]\n",
    "    return X_train, X_test, y_train, y_test\n",
    "\n",
    "\n",
    "X_train, X_test, y_train, y_test = get_all()\n",
    "X_train.shape\n"
   ]
  },
  {
   "cell_type": "code",
   "execution_count": 15,
   "metadata": {},
   "outputs": [],
   "source": [
    "from sklearn.decomposition import PCA\n",
    "def pca_preprocess(X_train, X_test):\n",
    "\tX_train = StandardScaler().fit_transform(X_train)\n",
    "\tX_test = StandardScaler().fit_transform(X_test)\n",
    "\tpca = PCA(n_components=10)\n",
    "\tpca.fit(X_train)\n",
    "\tprint(\"Explained Variance\", pca.explained_variance_ratio_[:10])\n",
    "\tprint(\"Singular Values\", pca.singular_values_[:10])\n",
    "\tX_train = pca.fit_transform(X_train)\n",
    "\tX_test = pca.transform(X_test)\n",
    "\treturn X_train, X_test"
   ]
  },
  {
   "cell_type": "code",
   "execution_count": 16,
   "metadata": {},
   "outputs": [
    {
     "name": "stderr",
     "output_type": "stream",
     "text": [
      "c:\\Users\\groot\\anaconda3\\lib\\site-packages\\sklearn\\utils\\validation.py:1688: FutureWarning: Feature names only support names that are all strings. Got feature names with dtypes: ['tuple']. An error will be raised in 1.2.\n",
      "  warnings.warn(\n",
      "c:\\Users\\groot\\anaconda3\\lib\\site-packages\\sklearn\\utils\\validation.py:1688: FutureWarning: Feature names only support names that are all strings. Got feature names with dtypes: ['tuple']. An error will be raised in 1.2.\n",
      "  warnings.warn(\n",
      "c:\\Users\\groot\\anaconda3\\lib\\site-packages\\sklearn\\utils\\validation.py:1688: FutureWarning: Feature names only support names that are all strings. Got feature names with dtypes: ['tuple']. An error will be raised in 1.2.\n",
      "  warnings.warn(\n",
      "c:\\Users\\groot\\anaconda3\\lib\\site-packages\\sklearn\\utils\\validation.py:1688: FutureWarning: Feature names only support names that are all strings. Got feature names with dtypes: ['tuple']. An error will be raised in 1.2.\n",
      "  warnings.warn(\n"
     ]
    },
    {
     "name": "stdout",
     "output_type": "stream",
     "text": [
      "Explained Variance [0.1065275  0.0730906  0.04381973 0.03260251 0.03014247 0.02713127\n",
      " 0.02623769 0.02348421 0.02298346 0.01997074]\n",
      "Singular Values [1182.96084397  979.87408384  758.70744168  654.43275092  629.25821704\n",
      "  597.00029525  587.08674558  555.42768497  549.47408165  512.19645592]\n"
     ]
    },
    {
     "data": {
      "text/plain": [
       "(25360, 10)"
      ]
     },
     "execution_count": 16,
     "metadata": {},
     "output_type": "execute_result"
    }
   ],
   "source": [
    "X_train, X_test = pca_preprocess(X_train, X_test)\n",
    "X_train.shape"
   ]
  },
  {
   "cell_type": "code",
   "execution_count": 17,
   "metadata": {},
   "outputs": [
    {
     "data": {
      "text/plain": [
       "['Rock', 'Electronic', 'Instrumental', 'Pop', 'Hip-Hop']\n",
       "Categories (5, object): ['Rock', 'Electronic', 'Instrumental', 'Pop', 'Hip-Hop']"
      ]
     },
     "execution_count": 17,
     "metadata": {},
     "output_type": "execute_result"
    }
   ],
   "source": [
    "y_test.unique()"
   ]
  },
  {
   "cell_type": "code",
   "execution_count": 18,
   "metadata": {},
   "outputs": [
    {
     "data": {
      "text/plain": [
       "{'weights': 'distance', 'n_neighbors': 100, 'algorithm': 'ball_tree'}"
      ]
     },
     "execution_count": 18,
     "metadata": {},
     "output_type": "execute_result"
    }
   ],
   "source": [
    "from sklearn.model_selection import RandomizedSearchCV\n",
    "from sklearn.neighbors import KNeighborsClassifier\n",
    "\n",
    "param_grid = {\n",
    "    'n_neighbors': [10, 100, 200, 300, 500, 1000],\n",
    "    'weights': ['uniform', 'distance'],\n",
    "    'algorithm': ['auto', 'ball_tree', 'kd_tree', 'brute'],\n",
    "}\n",
    "\n",
    "knn = RandomizedSearchCV(KNeighborsClassifier(), param_grid, cv=5,\n",
    "                         return_train_score=False,\n",
    "                         n_iter=6)\n",
    "knn.fit(X_train, y_train)\n",
    "\n",
    "knn.best_params_\n"
   ]
  },
  {
   "cell_type": "code",
   "execution_count": 19,
   "metadata": {},
   "outputs": [
    {
     "data": {
      "text/html": [
       "<div>\n",
       "<style scoped>\n",
       "    .dataframe tbody tr th:only-of-type {\n",
       "        vertical-align: middle;\n",
       "    }\n",
       "\n",
       "    .dataframe tbody tr th {\n",
       "        vertical-align: top;\n",
       "    }\n",
       "\n",
       "    .dataframe thead th {\n",
       "        text-align: right;\n",
       "    }\n",
       "</style>\n",
       "<table border=\"1\" class=\"dataframe\">\n",
       "  <thead>\n",
       "    <tr style=\"text-align: right;\">\n",
       "      <th></th>\n",
       "      <th>mean_fit_time</th>\n",
       "      <th>std_fit_time</th>\n",
       "      <th>mean_score_time</th>\n",
       "      <th>std_score_time</th>\n",
       "      <th>param_weights</th>\n",
       "      <th>param_n_neighbors</th>\n",
       "      <th>param_algorithm</th>\n",
       "      <th>params</th>\n",
       "      <th>split0_test_score</th>\n",
       "      <th>split1_test_score</th>\n",
       "      <th>split2_test_score</th>\n",
       "      <th>split3_test_score</th>\n",
       "      <th>split4_test_score</th>\n",
       "      <th>mean_test_score</th>\n",
       "      <th>std_test_score</th>\n",
       "      <th>rank_test_score</th>\n",
       "    </tr>\n",
       "  </thead>\n",
       "  <tbody>\n",
       "    <tr>\n",
       "      <th>0</th>\n",
       "      <td>0.012172</td>\n",
       "      <td>0.002126</td>\n",
       "      <td>1.729257</td>\n",
       "      <td>0.051486</td>\n",
       "      <td>distance</td>\n",
       "      <td>300</td>\n",
       "      <td>brute</td>\n",
       "      <td>{'weights': 'distance', 'n_neighbors': 300, 'a...</td>\n",
       "      <td>0.610804</td>\n",
       "      <td>0.633675</td>\n",
       "      <td>0.627563</td>\n",
       "      <td>0.654574</td>\n",
       "      <td>0.641167</td>\n",
       "      <td>0.633557</td>\n",
       "      <td>0.014514</td>\n",
       "      <td>3</td>\n",
       "    </tr>\n",
       "    <tr>\n",
       "      <th>1</th>\n",
       "      <td>0.027806</td>\n",
       "      <td>0.001452</td>\n",
       "      <td>1.471299</td>\n",
       "      <td>0.012314</td>\n",
       "      <td>uniform</td>\n",
       "      <td>200</td>\n",
       "      <td>auto</td>\n",
       "      <td>{'weights': 'uniform', 'n_neighbors': 200, 'al...</td>\n",
       "      <td>0.613170</td>\n",
       "      <td>0.634069</td>\n",
       "      <td>0.633478</td>\n",
       "      <td>0.655166</td>\n",
       "      <td>0.640970</td>\n",
       "      <td>0.635371</td>\n",
       "      <td>0.013574</td>\n",
       "      <td>2</td>\n",
       "    </tr>\n",
       "    <tr>\n",
       "      <th>2</th>\n",
       "      <td>0.028350</td>\n",
       "      <td>0.001374</td>\n",
       "      <td>2.995864</td>\n",
       "      <td>0.061070</td>\n",
       "      <td>distance</td>\n",
       "      <td>1000</td>\n",
       "      <td>auto</td>\n",
       "      <td>{'weights': 'distance', 'n_neighbors': 1000, '...</td>\n",
       "      <td>0.595426</td>\n",
       "      <td>0.615931</td>\n",
       "      <td>0.607453</td>\n",
       "      <td>0.634069</td>\n",
       "      <td>0.617902</td>\n",
       "      <td>0.614156</td>\n",
       "      <td>0.012724</td>\n",
       "      <td>5</td>\n",
       "    </tr>\n",
       "    <tr>\n",
       "      <th>3</th>\n",
       "      <td>0.011616</td>\n",
       "      <td>0.000851</td>\n",
       "      <td>1.993154</td>\n",
       "      <td>0.030472</td>\n",
       "      <td>uniform</td>\n",
       "      <td>1000</td>\n",
       "      <td>brute</td>\n",
       "      <td>{'weights': 'uniform', 'n_neighbors': 1000, 'a...</td>\n",
       "      <td>0.593651</td>\n",
       "      <td>0.611790</td>\n",
       "      <td>0.604692</td>\n",
       "      <td>0.624409</td>\n",
       "      <td>0.614945</td>\n",
       "      <td>0.609897</td>\n",
       "      <td>0.010302</td>\n",
       "      <td>6</td>\n",
       "    </tr>\n",
       "    <tr>\n",
       "      <th>4</th>\n",
       "      <td>0.028013</td>\n",
       "      <td>0.001096</td>\n",
       "      <td>2.046554</td>\n",
       "      <td>0.020190</td>\n",
       "      <td>uniform</td>\n",
       "      <td>500</td>\n",
       "      <td>kd_tree</td>\n",
       "      <td>{'weights': 'uniform', 'n_neighbors': 500, 'al...</td>\n",
       "      <td>0.605087</td>\n",
       "      <td>0.627760</td>\n",
       "      <td>0.618494</td>\n",
       "      <td>0.640379</td>\n",
       "      <td>0.629929</td>\n",
       "      <td>0.624330</td>\n",
       "      <td>0.011875</td>\n",
       "      <td>4</td>\n",
       "    </tr>\n",
       "    <tr>\n",
       "      <th>5</th>\n",
       "      <td>0.025443</td>\n",
       "      <td>0.001638</td>\n",
       "      <td>1.527482</td>\n",
       "      <td>0.005978</td>\n",
       "      <td>distance</td>\n",
       "      <td>100</td>\n",
       "      <td>ball_tree</td>\n",
       "      <td>{'weights': 'distance', 'n_neighbors': 100, 'a...</td>\n",
       "      <td>0.619874</td>\n",
       "      <td>0.638998</td>\n",
       "      <td>0.640773</td>\n",
       "      <td>0.668178</td>\n",
       "      <td>0.646688</td>\n",
       "      <td>0.642902</td>\n",
       "      <td>0.015513</td>\n",
       "      <td>1</td>\n",
       "    </tr>\n",
       "  </tbody>\n",
       "</table>\n",
       "</div>"
      ],
      "text/plain": [
       "   mean_fit_time  std_fit_time  mean_score_time  std_score_time param_weights  \\\n",
       "0       0.012172      0.002126         1.729257        0.051486      distance   \n",
       "1       0.027806      0.001452         1.471299        0.012314       uniform   \n",
       "2       0.028350      0.001374         2.995864        0.061070      distance   \n",
       "3       0.011616      0.000851         1.993154        0.030472       uniform   \n",
       "4       0.028013      0.001096         2.046554        0.020190       uniform   \n",
       "5       0.025443      0.001638         1.527482        0.005978      distance   \n",
       "\n",
       "  param_n_neighbors param_algorithm  \\\n",
       "0               300           brute   \n",
       "1               200            auto   \n",
       "2              1000            auto   \n",
       "3              1000           brute   \n",
       "4               500         kd_tree   \n",
       "5               100       ball_tree   \n",
       "\n",
       "                                              params  split0_test_score  \\\n",
       "0  {'weights': 'distance', 'n_neighbors': 300, 'a...           0.610804   \n",
       "1  {'weights': 'uniform', 'n_neighbors': 200, 'al...           0.613170   \n",
       "2  {'weights': 'distance', 'n_neighbors': 1000, '...           0.595426   \n",
       "3  {'weights': 'uniform', 'n_neighbors': 1000, 'a...           0.593651   \n",
       "4  {'weights': 'uniform', 'n_neighbors': 500, 'al...           0.605087   \n",
       "5  {'weights': 'distance', 'n_neighbors': 100, 'a...           0.619874   \n",
       "\n",
       "   split1_test_score  split2_test_score  split3_test_score  split4_test_score  \\\n",
       "0           0.633675           0.627563           0.654574           0.641167   \n",
       "1           0.634069           0.633478           0.655166           0.640970   \n",
       "2           0.615931           0.607453           0.634069           0.617902   \n",
       "3           0.611790           0.604692           0.624409           0.614945   \n",
       "4           0.627760           0.618494           0.640379           0.629929   \n",
       "5           0.638998           0.640773           0.668178           0.646688   \n",
       "\n",
       "   mean_test_score  std_test_score  rank_test_score  \n",
       "0         0.633557        0.014514                3  \n",
       "1         0.635371        0.013574                2  \n",
       "2         0.614156        0.012724                5  \n",
       "3         0.609897        0.010302                6  \n",
       "4         0.624330        0.011875                4  \n",
       "5         0.642902        0.015513                1  "
      ]
     },
     "execution_count": 19,
     "metadata": {},
     "output_type": "execute_result"
    }
   ],
   "source": [
    "pd.DataFrame(knn.cv_results_)"
   ]
  },
  {
   "cell_type": "code",
   "execution_count": 20,
   "metadata": {},
   "outputs": [
    {
     "name": "stdout",
     "output_type": "stream",
     "text": [
      "              precision    recall  f1-score   support\n",
      "\n",
      "  Electronic       0.59      0.69      0.63       839\n",
      "     Hip-Hop       0.56      0.37      0.44       323\n",
      "Instrumental       0.72      0.24      0.36       309\n",
      "         Pop       0.00      0.00      0.00       204\n",
      "        Rock       0.73      0.91      0.81      1464\n",
      "\n",
      "    accuracy                           0.67      3139\n",
      "   macro avg       0.52      0.44      0.45      3139\n",
      "weighted avg       0.63      0.67      0.63      3139\n",
      "\n"
     ]
    },
    {
     "data": {
      "image/png": "[encoded data removed]",
      "text/plain": [
       "<Figure size 1080x720 with 2 Axes>"
      ]
     },
     "metadata": {},
     "output_type": "display_data"
    }
   ],
   "source": [
    "neigh = KNeighborsClassifier(n_neighbors=100, weights=\"distance\", algorithm=\"ball_tree\")\n",
    "y_pred = neigh.fit(X_train, y_train).predict(X_test)\n",
    "\n",
    "print(classification_report(y_test, y_pred))\n",
    "cf_mat = confusion_matrix(y_test, y_pred)\n",
    "sns.set(rc = {'figure.figsize':(15,10)})\n",
    "\n",
    "ax = sns.heatmap(cf_mat, annot=True, cmap='Blues', fmt='g')\n",
    "ax.set_xticklabels(neigh.classes_)\n",
    "kwargs = {'rotation': 'horizontal'}\n",
    "ax.set_yticklabels(neigh.classes_, **kwargs)\n",
    "\n",
    "ax.set_title('Confusion Matrix with labels\\n\\n')\n",
    "\n",
    "plt.show()"
   ]
  },
  {
   "cell_type": "code",
   "execution_count": 21,
   "metadata": {},
   "outputs": [
    {
     "data": {
      "text/plain": [
       "(25360, 10)"
      ]
     },
     "execution_count": 21,
     "metadata": {},
     "output_type": "execute_result"
    }
   ],
   "source": [
    "from sklearn.manifold import TSNE\n",
    "\n",
    "def tsne_preprocess(X_train, X_test):\n",
    "    X_train = StandardScaler().fit_transform(X_train)\n",
    "    X_test = StandardScaler().fit_transform(X_test)\n",
    "    tsne = TSNE(n_components=2)\n",
    "    tsne.fit(X_train)\n",
    "    X_train = tsne.fit_transform(X_train)\n",
    "    X_test = tsne.fit_transform(X_test)\n",
    "    return X_train, X_test\n",
    "\n",
    "X_train.shape\n"
   ]
  },
  {
   "cell_type": "code",
   "execution_count": 22,
   "metadata": {},
   "outputs": [
    {
     "name": "stderr",
     "output_type": "stream",
     "text": [
      "c:\\Users\\groot\\anaconda3\\lib\\site-packages\\sklearn\\utils\\validation.py:1688: FutureWarning: Feature names only support names that are all strings. Got feature names with dtypes: ['tuple']. An error will be raised in 1.2.\n",
      "  warnings.warn(\n",
      "c:\\Users\\groot\\anaconda3\\lib\\site-packages\\sklearn\\utils\\validation.py:1688: FutureWarning: Feature names only support names that are all strings. Got feature names with dtypes: ['tuple']. An error will be raised in 1.2.\n",
      "  warnings.warn(\n",
      "c:\\Users\\groot\\anaconda3\\lib\\site-packages\\sklearn\\utils\\validation.py:1688: FutureWarning: Feature names only support names that are all strings. Got feature names with dtypes: ['tuple']. An error will be raised in 1.2.\n",
      "  warnings.warn(\n",
      "c:\\Users\\groot\\anaconda3\\lib\\site-packages\\sklearn\\utils\\validation.py:1688: FutureWarning: Feature names only support names that are all strings. Got feature names with dtypes: ['tuple']. An error will be raised in 1.2.\n",
      "  warnings.warn(\n",
      "c:\\Users\\groot\\anaconda3\\lib\\site-packages\\sklearn\\manifold\\_t_sne.py:780: FutureWarning: The default initialization in TSNE will change from 'random' to 'pca' in 1.2.\n",
      "  warnings.warn(\n",
      "c:\\Users\\groot\\anaconda3\\lib\\site-packages\\sklearn\\manifold\\_t_sne.py:790: FutureWarning: The default learning rate in TSNE will change from 200.0 to 'auto' in 1.2.\n",
      "  warnings.warn(\n",
      "c:\\Users\\groot\\anaconda3\\lib\\site-packages\\sklearn\\manifold\\_t_sne.py:780: FutureWarning: The default initialization in TSNE will change from 'random' to 'pca' in 1.2.\n",
      "  warnings.warn(\n",
      "c:\\Users\\groot\\anaconda3\\lib\\site-packages\\sklearn\\manifold\\_t_sne.py:790: FutureWarning: The default learning rate in TSNE will change from 200.0 to 'auto' in 1.2.\n",
      "  warnings.warn(\n",
      "c:\\Users\\groot\\anaconda3\\lib\\site-packages\\sklearn\\manifold\\_t_sne.py:780: FutureWarning: The default initialization in TSNE will change from 'random' to 'pca' in 1.2.\n",
      "  warnings.warn(\n",
      "c:\\Users\\groot\\anaconda3\\lib\\site-packages\\sklearn\\manifold\\_t_sne.py:790: FutureWarning: The default learning rate in TSNE will change from 200.0 to 'auto' in 1.2.\n",
      "  warnings.warn(\n"
     ]
    }
   ],
   "source": [
    "X_train, X_test, y_train, y_test = get_all()\n",
    "X_train, X_test = tsne_preprocess(X_train, X_test)"
   ]
  },
  {
   "cell_type": "code",
   "execution_count": 23,
   "metadata": {},
   "outputs": [
    {
     "name": "stdout",
     "output_type": "stream",
     "text": [
      "              precision    recall  f1-score   support\n",
      "\n",
      "  Electronic       0.28      0.33      0.30       839\n",
      "     Hip-Hop       0.08      0.06      0.07       323\n",
      "Instrumental       0.09      0.01      0.02       309\n",
      "         Pop       0.09      0.00      0.01       204\n",
      "        Rock       0.58      0.75      0.66      1464\n",
      "\n",
      "    accuracy                           0.44      3139\n",
      "   macro avg       0.23      0.23      0.21      3139\n",
      "weighted avg       0.37      0.44      0.40      3139\n",
      "\n"
     ]
    },
    {
     "data": {
      "image/png": "[encoded data removed]",
      "text/plain": [
       "<Figure size 1080x720 with 2 Axes>"
      ]
     },
     "metadata": {},
     "output_type": "display_data"
    }
   ],
   "source": [
    "neigh = KNeighborsClassifier(n_neighbors=100, weights=\"distance\", algorithm=\"ball_tree\")\n",
    "y_pred = neigh.fit(X_train, y_train).predict(X_test)\n",
    "\n",
    "print(classification_report(y_test, y_pred))\n",
    "cf_mat = confusion_matrix(y_test, y_pred)\n",
    "sns.set(rc = {'figure.figsize':(15,10)})\n",
    "\n",
    "ax = sns.heatmap(cf_mat, annot=True, cmap='Blues', fmt='g')\n",
    "ax.set_xticklabels(neigh.classes_)\n",
    "kwargs = {'rotation': 'horizontal'}\n",
    "ax.set_yticklabels(neigh.classes_, **kwargs)\n",
    "\n",
    "ax.set_title('Confusion Matrix with labels\\n\\n')\n",
    "\n",
    "plt.show()"
   ]
  }
 ],
 "metadata": {
  "interpreter": {
   "hash": "5e316cf9ca1723db4e294ad9c78ef2102348ee1117c358c83ccfc22dd6dd6bcc"
  },
  "kernelspec": {
   "display_name": "Python 3.8.8 ('base')",
   "language": "python",
   "name": "python3"
  },
  "language_info": {
   "codemirror_mode": {
    "name": "ipython",
    "version": 3
   },
   "file_extension": ".py",
   "mimetype": "text/x-python",
   "name": "python",
   "nbconvert_exporter": "python",
   "pygments_lexer": "ipython3",
   "version": "3.8.8"
  },
  "orig_nbformat": 4
 },
 "nbformat": 4,
 "nbformat_minor": 2
}
