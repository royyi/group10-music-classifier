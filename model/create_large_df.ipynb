{
 "cells": [
  {
   "cell_type": "code",
   "execution_count": 40,
   "metadata": {},
   "outputs": [],
   "source": [
    "import pandas as pd\n",
    "import numpy as np\n",
    "import matplotlib.pyplot as plt\n",
    "import seaborn as sns\n",
    "\n",
    "from sklearn.neural_network import MLPClassifier\n",
    "from sklearn.preprocessing import StandardScaler\n",
    "from sklearn.model_selection import train_test_split\n",
    "from sklearn.metrics import confusion_matrix, classification_report, accuracy_score\n",
    "\n",
    "\n",
    "import sys\n",
    "\n",
    "sys.path.append('../')\n",
    "\n",
    "from eda import utils"
   ]
  },
  {
   "cell_type": "code",
   "execution_count": 41,
   "metadata": {},
   "outputs": [],
   "source": [
    "tracks = utils.load('../data/fma_metadata/tracks.csv')\n",
    "feats = utils.load('../data/fma_metadata/features.csv')"
   ]
  },
  {
   "cell_type": "code",
   "execution_count": 42,
   "metadata": {},
   "outputs": [
    {
     "name": "stdout",
     "output_type": "stream",
     "text": [
      "Rock                   14182\n",
      "Electronic              9372\n",
      "Hip-Hop                 3552\n",
      "Pop                     2332\n",
      "Instrumental            2079\n",
      "Blues                      0\n",
      "Classical                  0\n",
      "Country                    0\n",
      "Easy Listening             0\n",
      "Experimental               0\n",
      "Folk                       0\n",
      "International              0\n",
      "Jazz                       0\n",
      "Old-Time / Historic        0\n",
      "Soul-RnB                   0\n",
      "Spoken                     0\n",
      "Name: (track, genre_top), dtype: int64\n",
      "feature    chroma_cens                                                    \\\n",
      "statistics    kurtosis                                                     \n",
      "number              01        02        03        04        05        06   \n",
      "track_id                                                                   \n",
      "2             7.180653  5.230309  0.249321  1.347620  1.482478  0.531371   \n",
      "3             1.888963  0.760539  0.345297  2.295201  1.654031  0.067592   \n",
      "5             0.527563 -0.077654 -0.279610  0.685883  1.937570  0.880839   \n",
      "10            3.702245 -0.291193  2.196742 -0.234449  1.367364  0.998411   \n",
      "134           0.918445  0.674147  0.577818  1.281117  0.933746  0.078177   \n",
      "...                ...       ...       ...       ...       ...       ...   \n",
      "155315       -0.319850  0.653044  1.300360 -0.606061 -1.109302 -1.006683   \n",
      "155316       -0.490129  0.463834  2.321970 -0.084352  1.662914  2.115189   \n",
      "155317       -0.461559 -0.229601 -0.496632 -0.422033  0.130612 -0.263825   \n",
      "155318        0.552473 -0.110498 -0.532014  0.263131 -0.224011 -0.530972   \n",
      "155319       -0.176901  0.187208 -0.050664  0.368843  0.066005 -0.857354   \n",
      "\n",
      "feature                                             ...   tonnetz            \\\n",
      "statistics                                          ...       std             \n",
      "number            07        08        09        10  ...        04        05   \n",
      "track_id                                            ...                       \n",
      "2           1.481593  2.691455  0.866868  1.341231  ...  0.054125  0.012226   \n",
      "3           1.366848  1.054094  0.108103  0.619185  ...  0.063831  0.014212   \n",
      "5          -0.923192 -0.927232  0.666617  1.038546  ...  0.040730  0.012691   \n",
      "10          1.770694  1.604566  0.521217  1.982386  ...  0.074358  0.017952   \n",
      "134         1.199204 -0.175223  0.925482  1.438509  ...  0.058766  0.016322   \n",
      "...              ...       ...       ...       ...  ...       ...       ...   \n",
      "155315      0.059643  0.472580 -0.856436 -0.524676  ...  0.108577  0.016631   \n",
      "155316     -0.237794  5.695442  0.830353  1.951819  ...  0.128410  0.022547   \n",
      "155317     -0.628103 -0.082687 -0.229483 -0.492753  ...  0.132964  0.023548   \n",
      "155318      1.713526  1.418444  1.325197  0.120333  ...  0.108324  0.017540   \n",
      "155319     -0.780860  0.626281 -0.630938 -0.787229  ...  0.088311  0.018328   \n",
      "\n",
      "feature                     zcr                                          \\\n",
      "statistics             kurtosis       max      mean    median       min   \n",
      "number            06         01        01        01        01        01   \n",
      "track_id                                                                  \n",
      "2           0.012111   5.758890  0.459473  0.085629  0.071289  0.000000   \n",
      "3           0.017740   2.824694  0.466309  0.084578  0.063965  0.000000   \n",
      "5           0.014759   6.808415  0.375000  0.053114  0.041504  0.000000   \n",
      "10          0.013921  21.434212  0.452148  0.077515  0.071777  0.000000   \n",
      "134         0.015819   4.731087  0.419434  0.064370  0.050781  0.000000   \n",
      "...              ...        ...       ...       ...       ...       ...   \n",
      "155315      0.014705   6.947788  0.188477  0.037708  0.035156  0.002930   \n",
      "155316      0.019816   4.448255  0.172852  0.028773  0.028320  0.003906   \n",
      "155317      0.026527   3.270612  0.196289  0.031116  0.027832  0.002441   \n",
      "155318      0.020471   2.356727  0.212891  0.038450  0.037109  0.003418   \n",
      "155319      0.017936   6.188604  0.167480  0.041480  0.038086  0.004883   \n",
      "\n",
      "feature                         \n",
      "statistics      skew       std  \n",
      "number            01        01  \n",
      "track_id                        \n",
      "2           2.089872  0.061448  \n",
      "3           1.716724  0.069330  \n",
      "5           2.193303  0.044861  \n",
      "10          3.542325  0.040800  \n",
      "134         1.806106  0.054623  \n",
      "...              ...       ...  \n",
      "155315      1.764233  0.018679  \n",
      "155316      0.955388  0.012385  \n",
      "155317      1.283060  0.019059  \n",
      "155318      0.828569  0.017904  \n",
      "155319      1.818740  0.020133  \n",
      "\n",
      "[31517 rows x 518 columns]\n"
     ]
    }
   ],
   "source": [
    "small = tracks['set', 'subset'] <= 'large'\n",
    "\n",
    "#print(tracks['set', 'subset'].value_counts())\n",
    "#print(tracks['track', 'genre_top'].isna().sum())\n",
    "#print(tracks['track', 'genres_all'])\n",
    "#print(tracks.columns)\n",
    "#print(feats.columns)\n",
    "\n",
    "X = feats.loc[small]\n",
    "y = tracks['track', 'genre_top'].loc[small]\n",
    "\n",
    "#uncomment for 5-class or 2-class\n",
    "y = y.loc[(y == 'Rock') | (y == 'Electronic') | (y == 'Instrumental') | (y == 'Hip-Hop') | (y == 'Pop')]\n",
    "#y = y.loc[(y == 'Rock') | (y == 'Electronic')]\n",
    "print(y.value_counts())\n",
    "\n",
    "X = X.loc[X.index.isin(y.index)]\n",
    "\n",
    "#uncomment for mfcc\n",
    "#col = X.columns.get_loc('mfcc')\n",
    "#X = X.iloc[:, col]\n",
    "\n",
    "print(X)\n",
    "\n",
    "X_train, X_test, y_train, y_test = train_test_split(X, y, train_size=0.8)"
   ]
  },
  {
   "cell_type": "code",
   "execution_count": 44,
   "metadata": {},
   "outputs": [
    {
     "name": "stdout",
     "output_type": "stream",
     "text": [
      "Electronic             2079\n",
      "Hip-Hop                2079\n",
      "Instrumental           2079\n",
      "Pop                    2079\n",
      "Rock                   2079\n",
      "Blues                     0\n",
      "Classical                 0\n",
      "Country                   0\n",
      "Easy Listening            0\n",
      "Experimental              0\n",
      "Folk                      0\n",
      "International             0\n",
      "Jazz                      0\n",
      "Old-Time / Historic       0\n",
      "Soul-RnB                  0\n",
      "Spoken                    0\n",
      "Name: (track, genre_top), dtype: int64\n"
     ]
    }
   ],
   "source": [
    "from imblearn.under_sampling import RandomUnderSampler\n",
    "\n",
    "rus = RandomUnderSampler(random_state=42)\n",
    "\n",
    "X_rus, y_rus = rus.fit_resample(X, y)\n",
    "print(y_rus.value_counts())"
   ]
  },
  {
   "cell_type": "code",
   "execution_count": 49,
   "metadata": {},
   "outputs": [],
   "source": [
    "large_df = pd.concat([X_rus, y_rus], axis=1)\n",
    "large_df = large_df.sample(frac=1).reset_index(drop=True)\n",
    "large_df.to_csv('large.csv', index=False)"
   ]
  }
 ],
 "metadata": {
  "interpreter": {
   "hash": "fb75d2a3eb328cee033dc2d4bbeb2956790363e0a5eb3cff16c742fa53f1096a"
  },
  "kernelspec": {
   "display_name": "Python 3.10.4 ('env1')",
   "language": "python",
   "name": "python3"
  },
  "language_info": {
   "codemirror_mode": {
    "name": "ipython",
    "version": 3
   },
   "file_extension": ".py",
   "mimetype": "text/x-python",
   "name": "python",
   "nbconvert_exporter": "python",
   "pygments_lexer": "ipython3",
   "version": "3.10.4"
  },
  "orig_nbformat": 4
 },
 "nbformat": 4,
 "nbformat_minor": 2
}
