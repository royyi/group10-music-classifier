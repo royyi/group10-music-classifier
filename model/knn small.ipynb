{
 "cells": [
  {
   "cell_type": "code",
   "execution_count": 5,
   "metadata": {},
   "outputs": [],
   "source": [
    "import pandas as pd\n",
    "import matplotlib.pyplot as plt\n",
    "import pandas as pd\n",
    "import seaborn as sns\n",
    "from sklearn.preprocessing import StandardScaler\n",
    "from sklearn.metrics import confusion_matrix, classification_report\n",
    "\n",
    "import sys\n",
    "sys.path.append('../')\n",
    "from eda import utils"
   ]
  },
  {
   "cell_type": "code",
   "execution_count": 6,
   "metadata": {},
   "outputs": [],
   "source": [
    "tracks = utils.load('../data/fma_metadata/tracks.csv')\n",
    "features = utils.load('../data/fma_metadata/features.csv')"
   ]
  },
  {
   "cell_type": "code",
   "execution_count": 7,
   "metadata": {},
   "outputs": [
    {
     "name": "stderr",
     "output_type": "stream",
     "text": [
      "c:\\Users\\groot\\anaconda3\\lib\\site-packages\\sklearn\\utils\\validation.py:1688: FutureWarning: Feature names only support names that are all strings. Got feature names with dtypes: ['tuple']. An error will be raised in 1.2.\n",
      "  warnings.warn(\n",
      "c:\\Users\\groot\\anaconda3\\lib\\site-packages\\sklearn\\utils\\validation.py:1688: FutureWarning: Feature names only support names that are all strings. Got feature names with dtypes: ['tuple']. An error will be raised in 1.2.\n",
      "  warnings.warn(\n",
      "c:\\Users\\groot\\anaconda3\\lib\\site-packages\\sklearn\\utils\\validation.py:1688: FutureWarning: Feature names only support names that are all strings. Got feature names with dtypes: ['tuple']. An error will be raised in 1.2.\n",
      "  warnings.warn(\n",
      "c:\\Users\\groot\\anaconda3\\lib\\site-packages\\sklearn\\utils\\validation.py:1688: FutureWarning: Feature names only support names that are all strings. Got feature names with dtypes: ['tuple']. An error will be raised in 1.2.\n",
      "  warnings.warn(\n"
     ]
    },
    {
     "data": {
      "text/plain": [
       "(6400, 518)"
      ]
     },
     "execution_count": 7,
     "metadata": {},
     "output_type": "execute_result"
    }
   ],
   "source": [
    "from sklearn.preprocessing import StandardScaler\n",
    "small = tracks['set', 'subset'] <= 'small'\n",
    "\n",
    "train = tracks['set', 'split'] == 'training'\n",
    "val = tracks['set', 'split'] == 'validation'\n",
    "test = tracks['set', 'split'] == 'test'\n",
    "\n",
    "y_train = tracks.loc[small & train, ('track', 'genre_top')]\n",
    "y_test = tracks.loc[small & test, ('track', 'genre_top')]\n",
    "X_train = features.loc[small & train]\n",
    "X_test = features.loc[small & test]\n",
    "\n",
    "X_train = StandardScaler().fit_transform(X_train)\n",
    "X_test = StandardScaler().fit_transform(X_test)\n",
    "X_train.shape\n"
   ]
  },
  {
   "cell_type": "code",
   "execution_count": 8,
   "metadata": {},
   "outputs": [
    {
     "name": "stdout",
     "output_type": "stream",
     "text": [
      "Explained Variance [0.11557866 0.07352983 0.04589962 0.03144319 0.02854024 0.02734791\n",
      " 0.02555309 0.02473221 0.0233337  0.02009173]\n",
      "Singular Values [619.00434518 493.72673382 390.08514625 322.86294035 307.59810141\n",
      " 301.10430828 291.05599848 286.3428244  278.12924838 258.0854263 ]\n"
     ]
    },
    {
     "data": {
      "text/plain": [
       "(6400, 10)"
      ]
     },
     "execution_count": 8,
     "metadata": {},
     "output_type": "execute_result"
    }
   ],
   "source": [
    "from sklearn.decomposition import PCA\n",
    "\n",
    "pca = PCA(n_components=10)\n",
    "pca.fit(X_train)\n",
    "print(\"Explained Variance\", pca.explained_variance_ratio_[:10])\n",
    "print(\"Singular Values\", pca.singular_values_[:10])\n",
    "\n",
    "X_train = pca.fit_transform(X_train)\n",
    "X_test = pca.transform(X_test)\n",
    "X_train.shape"
   ]
  },
  {
   "cell_type": "code",
   "execution_count": 9,
   "metadata": {},
   "outputs": [
    {
     "data": {
      "text/plain": [
       "['Rock', 'International', 'Folk', 'Experimental', 'Instrumental', 'Pop', 'Hip-Hop', 'Electronic']\n",
       "Categories (8, object): ['Rock', 'International', 'Folk', 'Experimental', 'Instrumental', 'Pop', 'Hip-Hop', 'Electronic']"
      ]
     },
     "execution_count": 9,
     "metadata": {},
     "output_type": "execute_result"
    }
   ],
   "source": [
    "y_test.unique()"
   ]
  },
  {
   "cell_type": "code",
   "execution_count": 13,
   "metadata": {},
   "outputs": [
    {
     "data": {
      "text/plain": [
       "{'weights': 'distance', 'n_neighbors': 10, 'algorithm': 'auto'}"
      ]
     },
     "execution_count": 13,
     "metadata": {},
     "output_type": "execute_result"
    }
   ],
   "source": [
    "from sklearn.model_selection import RandomizedSearchCV\n",
    "from sklearn.neighbors import KNeighborsClassifier\n",
    "\n",
    "param_grid = {\n",
    "    'n_neighbors': [10, 100, 200, 300, 500, 1000],\n",
    "    'weights': ['uniform', 'distance'],\n",
    "    'algorithm': ['auto', 'ball_tree', 'kd_tree', 'brute'],\n",
    "}\n",
    "\n",
    "knn = RandomizedSearchCV(KNeighborsClassifier(), param_grid, cv=5,\n",
    "                         return_train_score=False,\n",
    "                         n_iter=6)\n",
    "knn.fit(X_train, y_train)\n",
    "\n",
    "knn.best_params_\n"
   ]
  },
  {
   "cell_type": "code",
   "execution_count": 173,
   "metadata": {},
   "outputs": [
    {
     "data": {
      "text/html": [
       "<div>\n",
       "<style scoped>\n",
       "    .dataframe tbody tr th:only-of-type {\n",
       "        vertical-align: middle;\n",
       "    }\n",
       "\n",
       "    .dataframe tbody tr th {\n",
       "        vertical-align: top;\n",
       "    }\n",
       "\n",
       "    .dataframe thead th {\n",
       "        text-align: right;\n",
       "    }\n",
       "</style>\n",
       "<table border=\"1\" class=\"dataframe\">\n",
       "  <thead>\n",
       "    <tr style=\"text-align: right;\">\n",
       "      <th></th>\n",
       "      <th>mean_fit_time</th>\n",
       "      <th>std_fit_time</th>\n",
       "      <th>mean_score_time</th>\n",
       "      <th>std_score_time</th>\n",
       "      <th>param_weights</th>\n",
       "      <th>param_n_neighbors</th>\n",
       "      <th>param_algorithm</th>\n",
       "      <th>params</th>\n",
       "      <th>split0_test_score</th>\n",
       "      <th>split1_test_score</th>\n",
       "      <th>split2_test_score</th>\n",
       "      <th>split3_test_score</th>\n",
       "      <th>split4_test_score</th>\n",
       "      <th>mean_test_score</th>\n",
       "      <th>std_test_score</th>\n",
       "      <th>rank_test_score</th>\n",
       "    </tr>\n",
       "  </thead>\n",
       "  <tbody>\n",
       "    <tr>\n",
       "      <th>0</th>\n",
       "      <td>0.192192</td>\n",
       "      <td>0.005140</td>\n",
       "      <td>6.360295</td>\n",
       "      <td>0.049598</td>\n",
       "      <td>uniform</td>\n",
       "      <td>1000</td>\n",
       "      <td>kd_tree</td>\n",
       "      <td>{'weights': 'uniform', 'n_neighbors': 1000, 'a...</td>\n",
       "      <td>0.342187</td>\n",
       "      <td>0.343750</td>\n",
       "      <td>0.363281</td>\n",
       "      <td>0.337500</td>\n",
       "      <td>0.341406</td>\n",
       "      <td>0.345625</td>\n",
       "      <td>0.009065</td>\n",
       "      <td>5</td>\n",
       "    </tr>\n",
       "    <tr>\n",
       "      <th>1</th>\n",
       "      <td>0.022651</td>\n",
       "      <td>0.005833</td>\n",
       "      <td>0.747858</td>\n",
       "      <td>0.012475</td>\n",
       "      <td>distance</td>\n",
       "      <td>500</td>\n",
       "      <td>brute</td>\n",
       "      <td>{'weights': 'distance', 'n_neighbors': 500, 'a...</td>\n",
       "      <td>0.353906</td>\n",
       "      <td>0.368750</td>\n",
       "      <td>0.396875</td>\n",
       "      <td>0.365625</td>\n",
       "      <td>0.354687</td>\n",
       "      <td>0.367969</td>\n",
       "      <td>0.015594</td>\n",
       "      <td>4</td>\n",
       "    </tr>\n",
       "    <tr>\n",
       "      <th>2</th>\n",
       "      <td>0.020953</td>\n",
       "      <td>0.003966</td>\n",
       "      <td>0.397203</td>\n",
       "      <td>0.009350</td>\n",
       "      <td>distance</td>\n",
       "      <td>10</td>\n",
       "      <td>auto</td>\n",
       "      <td>{'weights': 'distance', 'n_neighbors': 10, 'al...</td>\n",
       "      <td>0.386719</td>\n",
       "      <td>0.409375</td>\n",
       "      <td>0.457031</td>\n",
       "      <td>0.421094</td>\n",
       "      <td>0.384375</td>\n",
       "      <td>0.411719</td>\n",
       "      <td>0.026530</td>\n",
       "      <td>1</td>\n",
       "    </tr>\n",
       "    <tr>\n",
       "      <th>3</th>\n",
       "      <td>0.139043</td>\n",
       "      <td>0.002804</td>\n",
       "      <td>5.016752</td>\n",
       "      <td>0.044365</td>\n",
       "      <td>uniform</td>\n",
       "      <td>1000</td>\n",
       "      <td>ball_tree</td>\n",
       "      <td>{'weights': 'uniform', 'n_neighbors': 1000, 'a...</td>\n",
       "      <td>0.342187</td>\n",
       "      <td>0.343750</td>\n",
       "      <td>0.363281</td>\n",
       "      <td>0.337500</td>\n",
       "      <td>0.341406</td>\n",
       "      <td>0.345625</td>\n",
       "      <td>0.009065</td>\n",
       "      <td>5</td>\n",
       "    </tr>\n",
       "    <tr>\n",
       "      <th>4</th>\n",
       "      <td>0.137696</td>\n",
       "      <td>0.002663</td>\n",
       "      <td>3.899871</td>\n",
       "      <td>0.057072</td>\n",
       "      <td>uniform</td>\n",
       "      <td>10</td>\n",
       "      <td>ball_tree</td>\n",
       "      <td>{'weights': 'uniform', 'n_neighbors': 10, 'alg...</td>\n",
       "      <td>0.395313</td>\n",
       "      <td>0.399219</td>\n",
       "      <td>0.457031</td>\n",
       "      <td>0.413281</td>\n",
       "      <td>0.378125</td>\n",
       "      <td>0.408594</td>\n",
       "      <td>0.026686</td>\n",
       "      <td>2</td>\n",
       "    </tr>\n",
       "    <tr>\n",
       "      <th>5</th>\n",
       "      <td>0.192614</td>\n",
       "      <td>0.015724</td>\n",
       "      <td>5.347957</td>\n",
       "      <td>0.067648</td>\n",
       "      <td>distance</td>\n",
       "      <td>100</td>\n",
       "      <td>kd_tree</td>\n",
       "      <td>{'weights': 'distance', 'n_neighbors': 100, 'a...</td>\n",
       "      <td>0.383594</td>\n",
       "      <td>0.412500</td>\n",
       "      <td>0.435937</td>\n",
       "      <td>0.422656</td>\n",
       "      <td>0.388281</td>\n",
       "      <td>0.408594</td>\n",
       "      <td>0.019991</td>\n",
       "      <td>2</td>\n",
       "    </tr>\n",
       "  </tbody>\n",
       "</table>\n",
       "</div>"
      ],
      "text/plain": [
       "   mean_fit_time  std_fit_time  mean_score_time  std_score_time param_weights  \\\n",
       "0       0.192192      0.005140         6.360295        0.049598       uniform   \n",
       "1       0.022651      0.005833         0.747858        0.012475      distance   \n",
       "2       0.020953      0.003966         0.397203        0.009350      distance   \n",
       "3       0.139043      0.002804         5.016752        0.044365       uniform   \n",
       "4       0.137696      0.002663         3.899871        0.057072       uniform   \n",
       "5       0.192614      0.015724         5.347957        0.067648      distance   \n",
       "\n",
       "  param_n_neighbors param_algorithm  \\\n",
       "0              1000         kd_tree   \n",
       "1               500           brute   \n",
       "2                10            auto   \n",
       "3              1000       ball_tree   \n",
       "4                10       ball_tree   \n",
       "5               100         kd_tree   \n",
       "\n",
       "                                              params  split0_test_score  \\\n",
       "0  {'weights': 'uniform', 'n_neighbors': 1000, 'a...           0.342187   \n",
       "1  {'weights': 'distance', 'n_neighbors': 500, 'a...           0.353906   \n",
       "2  {'weights': 'distance', 'n_neighbors': 10, 'al...           0.386719   \n",
       "3  {'weights': 'uniform', 'n_neighbors': 1000, 'a...           0.342187   \n",
       "4  {'weights': 'uniform', 'n_neighbors': 10, 'alg...           0.395313   \n",
       "5  {'weights': 'distance', 'n_neighbors': 100, 'a...           0.383594   \n",
       "\n",
       "   split1_test_score  split2_test_score  split3_test_score  split4_test_score  \\\n",
       "0           0.343750           0.363281           0.337500           0.341406   \n",
       "1           0.368750           0.396875           0.365625           0.354687   \n",
       "2           0.409375           0.457031           0.421094           0.384375   \n",
       "3           0.343750           0.363281           0.337500           0.341406   \n",
       "4           0.399219           0.457031           0.413281           0.378125   \n",
       "5           0.412500           0.435937           0.422656           0.388281   \n",
       "\n",
       "   mean_test_score  std_test_score  rank_test_score  \n",
       "0         0.345625        0.009065                5  \n",
       "1         0.367969        0.015594                4  \n",
       "2         0.411719        0.026530                1  \n",
       "3         0.345625        0.009065                5  \n",
       "4         0.408594        0.026686                2  \n",
       "5         0.408594        0.019991                2  "
      ]
     },
     "execution_count": 173,
     "metadata": {},
     "output_type": "execute_result"
    }
   ],
   "source": [
    "pd.DataFrame(knn.cv_results_)"
   ]
  },
  {
   "cell_type": "code",
   "execution_count": 11,
   "metadata": {},
   "outputs": [],
   "source": [
    "neigh = KNeighborsClassifier(n_neighbors=10, weights=\"distance\")\n",
    "y_pred = neigh.fit(X_train, y_train).predict(X_test)"
   ]
  },
  {
   "cell_type": "code",
   "execution_count": 12,
   "metadata": {},
   "outputs": [
    {
     "name": "stdout",
     "output_type": "stream",
     "text": [
      "               precision    recall  f1-score   support\n",
      "\n",
      "   Electronic       0.36      0.27      0.31       100\n",
      " Experimental       0.30      0.19      0.23       100\n",
      "         Folk       0.24      0.29      0.26       100\n",
      "      Hip-Hop       0.43      0.59      0.50       100\n",
      " Instrumental       0.34      0.29      0.31       100\n",
      "International       0.31      0.34      0.33       100\n",
      "          Pop       0.32      0.30      0.31       100\n",
      "         Rock       0.50      0.59      0.54       100\n",
      "\n",
      "     accuracy                           0.36       800\n",
      "    macro avg       0.35      0.36      0.35       800\n",
      " weighted avg       0.35      0.36      0.35       800\n",
      "\n"
     ]
    },
    {
     "data": {
      "image/png": "[encoded data removed]",
      "text/plain": [
       "<Figure size 1080x720 with 2 Axes>"
      ]
     },
     "metadata": {},
     "output_type": "display_data"
    }
   ],
   "source": [
    "print(classification_report(y_test, y_pred))\n",
    "cf_mat = confusion_matrix(y_test, y_pred)\n",
    "sns.set(rc = {'figure.figsize':(15,10)})\n",
    "\n",
    "ax = sns.heatmap(cf_mat, annot=True, cmap='Blues', fmt='g')\n",
    "ax.set_xticklabels(neigh.classes_)\n",
    "kwargs = {'rotation': 'horizontal'}\n",
    "ax.set_yticklabels(neigh.classes_, **kwargs)\n",
    "\n",
    "ax.set_title('Confusion Matrix with labels\\n\\n')\n",
    "\n",
    "plt.show()"
   ]
  }
 ],
 "metadata": {
  "interpreter": {
   "hash": "5e316cf9ca1723db4e294ad9c78ef2102348ee1117c358c83ccfc22dd6dd6bcc"
  },
  "kernelspec": {
   "display_name": "Python 3.8.8 ('base')",
   "language": "python",
   "name": "python3"
  },
  "language_info": {
   "codemirror_mode": {
    "name": "ipython",
    "version": 3
   },
   "file_extension": ".py",
   "mimetype": "text/x-python",
   "name": "python",
   "nbconvert_exporter": "python",
   "pygments_lexer": "ipython3",
   "version": "3.8.8"
  },
  "orig_nbformat": 4
 },
 "nbformat": 4,
 "nbformat_minor": 2
}
