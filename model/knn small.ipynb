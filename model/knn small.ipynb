{
 "cells": [
  {
   "cell_type": "code",
   "execution_count": 1,
   "metadata": {},
   "outputs": [],
   "source": [
    "import pandas as pd\n",
    "import matplotlib.pyplot as plt\n",
    "import pandas as pd\n",
    "import seaborn as sns\n",
    "from sklearn.preprocessing import StandardScaler\n",
    "from sklearn.metrics import confusion_matrix, classification_report\n",
    "\n",
    "import sys\n",
    "sys.path.append('../')\n",
    "from eda import utils"
   ]
  },
  {
   "cell_type": "code",
   "execution_count": 2,
   "metadata": {},
   "outputs": [],
   "source": [
    "tracks = utils.load('../data/fma_metadata/tracks.csv')\n",
    "features = utils.load('../data/fma_metadata/features.csv')"
   ]
  },
  {
   "cell_type": "code",
   "execution_count": 3,
   "metadata": {},
   "outputs": [
    {
     "data": {
      "text/plain": [
       "(4000, 518)"
      ]
     },
     "execution_count": 3,
     "metadata": {},
     "output_type": "execute_result"
    }
   ],
   "source": [
    "from sklearn.preprocessing import StandardScaler\n",
    "\n",
    "\n",
    "def get_all():\n",
    "    large = tracks['set', 'subset'] <= 'small'\n",
    "\n",
    "    genre1 = tracks['track', 'genre_top'] == 'Rock'\n",
    "    genre2 = tracks['track', 'genre_top'] == 'Pop'\n",
    "    genre3 = tracks['track', 'genre_top'] == 'Electronic'\n",
    "    genre4 = tracks['track', 'genre_top'] == 'Instrumental'\n",
    "    genre5 = tracks['track', 'genre_top'] == 'Hip-Hop'\n",
    "\n",
    "    train = tracks['set', 'split'] == 'training'\n",
    "    val = tracks['set', 'split'] == 'validation'\n",
    "    test = tracks['set', 'split'] == 'test'\n",
    "\n",
    "    y_train = tracks.loc[large & train & (\n",
    "        genre1 | genre2 | genre3 | genre4 | genre5), ('track', 'genre_top')]\n",
    "    y_test = tracks.loc[large & test & (\n",
    "        genre1 | genre2 | genre3 | genre4 | genre5), ('track', 'genre_top')]\n",
    "    X_train = features.loc[large & train & (\n",
    "        genre1 | genre2 | genre3 | genre4 | genre5)]\n",
    "    X_test = features.loc[large & test & (\n",
    "        genre1 | genre2 | genre3 | genre4 | genre5)]\n",
    "    return X_train, X_test, y_train, y_test\n",
    "\n",
    "\n",
    "X_train, X_test, y_train, y_test = get_all()\n",
    "X_train.shape\n"
   ]
  },
  {
   "cell_type": "code",
   "execution_count": 4,
   "metadata": {},
   "outputs": [],
   "source": [
    "from sklearn.decomposition import PCA\n",
    "def pca_preprocess(X_train, X_test):\n",
    "\tX_train = StandardScaler().fit_transform(X_train)\n",
    "\tX_test = StandardScaler().fit_transform(X_test)\n",
    "\tpca = PCA(n_components=10)\n",
    "\tpca.fit(X_train)\n",
    "\tprint(\"Explained Variance\", pca.explained_variance_ratio_[:10])\n",
    "\tprint(\"Singular Values\", pca.singular_values_[:10])\n",
    "\tX_train = pca.fit_transform(X_train)\n",
    "\tX_test = pca.transform(X_test)\n",
    "\treturn X_train, X_test"
   ]
  },
  {
   "cell_type": "code",
   "execution_count": 5,
   "metadata": {},
   "outputs": [
    {
     "name": "stderr",
     "output_type": "stream",
     "text": [
      "c:\\Users\\groot\\anaconda3\\lib\\site-packages\\sklearn\\utils\\validation.py:1688: FutureWarning: Feature names only support names that are all strings. Got feature names with dtypes: ['tuple']. An error will be raised in 1.2.\n",
      "  warnings.warn(\n",
      "c:\\Users\\groot\\anaconda3\\lib\\site-packages\\sklearn\\utils\\validation.py:1688: FutureWarning: Feature names only support names that are all strings. Got feature names with dtypes: ['tuple']. An error will be raised in 1.2.\n",
      "  warnings.warn(\n",
      "c:\\Users\\groot\\anaconda3\\lib\\site-packages\\sklearn\\utils\\validation.py:1688: FutureWarning: Feature names only support names that are all strings. Got feature names with dtypes: ['tuple']. An error will be raised in 1.2.\n",
      "  warnings.warn(\n",
      "c:\\Users\\groot\\anaconda3\\lib\\site-packages\\sklearn\\utils\\validation.py:1688: FutureWarning: Feature names only support names that are all strings. Got feature names with dtypes: ['tuple']. An error will be raised in 1.2.\n",
      "  warnings.warn(\n"
     ]
    },
    {
     "name": "stdout",
     "output_type": "stream",
     "text": [
      "Explained Variance [0.11254415 0.07531811 0.04454353 0.0305036  0.02896338 0.02675327\n",
      " 0.02527428 0.02436089 0.02299827 0.01977059]\n",
      "Singular Values [482.89903593 395.04318079 303.79958676 251.4029748  244.97370897\n",
      " 235.44164856 228.84122483 224.66810103 218.29432211 202.39731392]\n"
     ]
    },
    {
     "data": {
      "text/plain": [
       "(4000, 10)"
      ]
     },
     "execution_count": 5,
     "metadata": {},
     "output_type": "execute_result"
    }
   ],
   "source": [
    "X_train, X_test = pca_preprocess(X_train, X_test)\n",
    "X_train.shape"
   ]
  },
  {
   "cell_type": "code",
   "execution_count": 6,
   "metadata": {},
   "outputs": [
    {
     "data": {
      "text/plain": [
       "['Rock', 'Instrumental', 'Pop', 'Hip-Hop', 'Electronic']\n",
       "Categories (5, object): ['Rock', 'Instrumental', 'Pop', 'Hip-Hop', 'Electronic']"
      ]
     },
     "execution_count": 6,
     "metadata": {},
     "output_type": "execute_result"
    }
   ],
   "source": [
    "y_test.unique()"
   ]
  },
  {
   "cell_type": "code",
   "execution_count": 7,
   "metadata": {},
   "outputs": [
    {
     "data": {
      "text/plain": [
       "{'weights': 'distance', 'n_neighbors': 100, 'algorithm': 'brute'}"
      ]
     },
     "execution_count": 7,
     "metadata": {},
     "output_type": "execute_result"
    }
   ],
   "source": [
    "from sklearn.model_selection import RandomizedSearchCV\n",
    "from sklearn.neighbors import KNeighborsClassifier\n",
    "\n",
    "param_grid = {\n",
    "    'n_neighbors': [10, 100, 200, 300, 500, 1000],\n",
    "    'weights': ['uniform', 'distance'],\n",
    "    'algorithm': ['auto', 'ball_tree', 'kd_tree', 'brute'],\n",
    "}\n",
    "\n",
    "knn = RandomizedSearchCV(KNeighborsClassifier(), param_grid, cv=5,\n",
    "                         return_train_score=False,\n",
    "                         n_iter=6)\n",
    "knn.fit(X_train, y_train)\n",
    "\n",
    "knn.best_params_\n"
   ]
  },
  {
   "cell_type": "code",
   "execution_count": 8,
   "metadata": {},
   "outputs": [
    {
     "data": {
      "text/html": [
       "<div>\n",
       "<style scoped>\n",
       "    .dataframe tbody tr th:only-of-type {\n",
       "        vertical-align: middle;\n",
       "    }\n",
       "\n",
       "    .dataframe tbody tr th {\n",
       "        vertical-align: top;\n",
       "    }\n",
       "\n",
       "    .dataframe thead th {\n",
       "        text-align: right;\n",
       "    }\n",
       "</style>\n",
       "<table border=\"1\" class=\"dataframe\">\n",
       "  <thead>\n",
       "    <tr style=\"text-align: right;\">\n",
       "      <th></th>\n",
       "      <th>mean_fit_time</th>\n",
       "      <th>std_fit_time</th>\n",
       "      <th>mean_score_time</th>\n",
       "      <th>std_score_time</th>\n",
       "      <th>param_weights</th>\n",
       "      <th>param_n_neighbors</th>\n",
       "      <th>param_algorithm</th>\n",
       "      <th>params</th>\n",
       "      <th>split0_test_score</th>\n",
       "      <th>split1_test_score</th>\n",
       "      <th>split2_test_score</th>\n",
       "      <th>split3_test_score</th>\n",
       "      <th>split4_test_score</th>\n",
       "      <th>mean_test_score</th>\n",
       "      <th>std_test_score</th>\n",
       "      <th>rank_test_score</th>\n",
       "    </tr>\n",
       "  </thead>\n",
       "  <tbody>\n",
       "    <tr>\n",
       "      <th>0</th>\n",
       "      <td>0.003999</td>\n",
       "      <td>1.095584e-03</td>\n",
       "      <td>0.082475</td>\n",
       "      <td>0.005947</td>\n",
       "      <td>uniform</td>\n",
       "      <td>300</td>\n",
       "      <td>auto</td>\n",
       "      <td>{'weights': 'uniform', 'n_neighbors': 300, 'al...</td>\n",
       "      <td>0.47625</td>\n",
       "      <td>0.52375</td>\n",
       "      <td>0.52375</td>\n",
       "      <td>0.53000</td>\n",
       "      <td>0.52625</td>\n",
       "      <td>0.51600</td>\n",
       "      <td>0.020006</td>\n",
       "      <td>4</td>\n",
       "    </tr>\n",
       "    <tr>\n",
       "      <th>1</th>\n",
       "      <td>0.002999</td>\n",
       "      <td>2.708334e-06</td>\n",
       "      <td>0.060756</td>\n",
       "      <td>0.001178</td>\n",
       "      <td>distance</td>\n",
       "      <td>200</td>\n",
       "      <td>kd_tree</td>\n",
       "      <td>{'weights': 'distance', 'n_neighbors': 200, 'a...</td>\n",
       "      <td>0.47000</td>\n",
       "      <td>0.53750</td>\n",
       "      <td>0.52250</td>\n",
       "      <td>0.54125</td>\n",
       "      <td>0.53750</td>\n",
       "      <td>0.52175</td>\n",
       "      <td>0.026665</td>\n",
       "      <td>2</td>\n",
       "    </tr>\n",
       "    <tr>\n",
       "      <th>2</th>\n",
       "      <td>0.003561</td>\n",
       "      <td>4.621857e-04</td>\n",
       "      <td>0.032800</td>\n",
       "      <td>0.000748</td>\n",
       "      <td>uniform</td>\n",
       "      <td>10</td>\n",
       "      <td>auto</td>\n",
       "      <td>{'weights': 'uniform', 'n_neighbors': 10, 'alg...</td>\n",
       "      <td>0.45500</td>\n",
       "      <td>0.50875</td>\n",
       "      <td>0.52625</td>\n",
       "      <td>0.53625</td>\n",
       "      <td>0.52875</td>\n",
       "      <td>0.51100</td>\n",
       "      <td>0.029415</td>\n",
       "      <td>5</td>\n",
       "    </tr>\n",
       "    <tr>\n",
       "      <th>3</th>\n",
       "      <td>0.002198</td>\n",
       "      <td>4.005853e-04</td>\n",
       "      <td>0.070377</td>\n",
       "      <td>0.004166</td>\n",
       "      <td>distance</td>\n",
       "      <td>200</td>\n",
       "      <td>brute</td>\n",
       "      <td>{'weights': 'distance', 'n_neighbors': 200, 'a...</td>\n",
       "      <td>0.47000</td>\n",
       "      <td>0.53750</td>\n",
       "      <td>0.52250</td>\n",
       "      <td>0.54125</td>\n",
       "      <td>0.53750</td>\n",
       "      <td>0.52175</td>\n",
       "      <td>0.026665</td>\n",
       "      <td>2</td>\n",
       "    </tr>\n",
       "    <tr>\n",
       "      <th>4</th>\n",
       "      <td>0.002000</td>\n",
       "      <td>1.168008e-07</td>\n",
       "      <td>0.051961</td>\n",
       "      <td>0.003296</td>\n",
       "      <td>distance</td>\n",
       "      <td>100</td>\n",
       "      <td>brute</td>\n",
       "      <td>{'weights': 'distance', 'n_neighbors': 100, 'a...</td>\n",
       "      <td>0.48000</td>\n",
       "      <td>0.53500</td>\n",
       "      <td>0.53625</td>\n",
       "      <td>0.53375</td>\n",
       "      <td>0.55250</td>\n",
       "      <td>0.52750</td>\n",
       "      <td>0.024711</td>\n",
       "      <td>1</td>\n",
       "    </tr>\n",
       "    <tr>\n",
       "      <th>5</th>\n",
       "      <td>0.005470</td>\n",
       "      <td>4.765860e-03</td>\n",
       "      <td>0.180451</td>\n",
       "      <td>0.010069</td>\n",
       "      <td>distance</td>\n",
       "      <td>1000</td>\n",
       "      <td>ball_tree</td>\n",
       "      <td>{'weights': 'distance', 'n_neighbors': 1000, '...</td>\n",
       "      <td>0.43500</td>\n",
       "      <td>0.50500</td>\n",
       "      <td>0.50125</td>\n",
       "      <td>0.49875</td>\n",
       "      <td>0.51250</td>\n",
       "      <td>0.49050</td>\n",
       "      <td>0.028136</td>\n",
       "      <td>6</td>\n",
       "    </tr>\n",
       "  </tbody>\n",
       "</table>\n",
       "</div>"
      ],
      "text/plain": [
       "   mean_fit_time  std_fit_time  mean_score_time  std_score_time param_weights  \\\n",
       "0       0.003999  1.095584e-03         0.082475        0.005947       uniform   \n",
       "1       0.002999  2.708334e-06         0.060756        0.001178      distance   \n",
       "2       0.003561  4.621857e-04         0.032800        0.000748       uniform   \n",
       "3       0.002198  4.005853e-04         0.070377        0.004166      distance   \n",
       "4       0.002000  1.168008e-07         0.051961        0.003296      distance   \n",
       "5       0.005470  4.765860e-03         0.180451        0.010069      distance   \n",
       "\n",
       "  param_n_neighbors param_algorithm  \\\n",
       "0               300            auto   \n",
       "1               200         kd_tree   \n",
       "2                10            auto   \n",
       "3               200           brute   \n",
       "4               100           brute   \n",
       "5              1000       ball_tree   \n",
       "\n",
       "                                              params  split0_test_score  \\\n",
       "0  {'weights': 'uniform', 'n_neighbors': 300, 'al...            0.47625   \n",
       "1  {'weights': 'distance', 'n_neighbors': 200, 'a...            0.47000   \n",
       "2  {'weights': 'uniform', 'n_neighbors': 10, 'alg...            0.45500   \n",
       "3  {'weights': 'distance', 'n_neighbors': 200, 'a...            0.47000   \n",
       "4  {'weights': 'distance', 'n_neighbors': 100, 'a...            0.48000   \n",
       "5  {'weights': 'distance', 'n_neighbors': 1000, '...            0.43500   \n",
       "\n",
       "   split1_test_score  split2_test_score  split3_test_score  split4_test_score  \\\n",
       "0            0.52375            0.52375            0.53000            0.52625   \n",
       "1            0.53750            0.52250            0.54125            0.53750   \n",
       "2            0.50875            0.52625            0.53625            0.52875   \n",
       "3            0.53750            0.52250            0.54125            0.53750   \n",
       "4            0.53500            0.53625            0.53375            0.55250   \n",
       "5            0.50500            0.50125            0.49875            0.51250   \n",
       "\n",
       "   mean_test_score  std_test_score  rank_test_score  \n",
       "0          0.51600        0.020006                4  \n",
       "1          0.52175        0.026665                2  \n",
       "2          0.51100        0.029415                5  \n",
       "3          0.52175        0.026665                2  \n",
       "4          0.52750        0.024711                1  \n",
       "5          0.49050        0.028136                6  "
      ]
     },
     "execution_count": 8,
     "metadata": {},
     "output_type": "execute_result"
    }
   ],
   "source": [
    "pd.DataFrame(knn.cv_results_)"
   ]
  },
  {
   "cell_type": "code",
   "execution_count": 9,
   "metadata": {},
   "outputs": [
    {
     "name": "stdout",
     "output_type": "stream",
     "text": [
      "              precision    recall  f1-score   support\n",
      "\n",
      "  Electronic       0.68      0.23      0.34       100\n",
      "     Hip-Hop       0.51      0.80      0.62       100\n",
      "Instrumental       0.69      0.73      0.71       100\n",
      "         Pop       0.57      0.53      0.55       100\n",
      "        Rock       0.70      0.76      0.73       100\n",
      "\n",
      "    accuracy                           0.61       500\n",
      "   macro avg       0.63      0.61      0.59       500\n",
      "weighted avg       0.63      0.61      0.59       500\n",
      "\n"
     ]
    },
    {
     "data": {
      "image/png": "[encoded data removed]",
      "text/plain": [
       "<Figure size 1080x720 with 2 Axes>"
      ]
     },
     "metadata": {},
     "output_type": "display_data"
    }
   ],
   "source": [
    "neigh = KNeighborsClassifier(n_neighbors=100, weights=\"distance\", algorithm=\"ball_tree\")\n",
    "y_pred = neigh.fit(X_train, y_train).predict(X_test)\n",
    "\n",
    "print(classification_report(y_test, y_pred))\n",
    "cf_mat = confusion_matrix(y_test, y_pred)\n",
    "sns.set(rc = {'figure.figsize':(15,10)})\n",
    "\n",
    "ax = sns.heatmap(cf_mat, annot=True, cmap='Blues', fmt='g')\n",
    "ax.set_xticklabels(neigh.classes_)\n",
    "kwargs = {'rotation': 'horizontal'}\n",
    "ax.set_yticklabels(neigh.classes_, **kwargs)\n",
    "\n",
    "ax.set_title('Confusion Matrix with labels\\n\\n')\n",
    "\n",
    "plt.show()"
   ]
  },
  {
   "cell_type": "code",
   "execution_count": 10,
   "metadata": {},
   "outputs": [
    {
     "data": {
      "text/plain": [
       "(4000, 10)"
      ]
     },
     "execution_count": 10,
     "metadata": {},
     "output_type": "execute_result"
    }
   ],
   "source": [
    "from sklearn.manifold import TSNE\n",
    "\n",
    "def tsne_preprocess(X_train, X_test):\n",
    "    X_train = StandardScaler().fit_transform(X_train)\n",
    "    X_test = StandardScaler().fit_transform(X_test)\n",
    "    tsne = TSNE(n_components=2)\n",
    "    tsne.fit(X_train)\n",
    "    X_train = tsne.fit_transform(X_train)\n",
    "    X_test = tsne.fit_transform(X_test)\n",
    "    return X_train, X_test\n",
    "\n",
    "X_train.shape\n"
   ]
  },
  {
   "cell_type": "code",
   "execution_count": 11,
   "metadata": {},
   "outputs": [
    {
     "name": "stderr",
     "output_type": "stream",
     "text": [
      "c:\\Users\\groot\\anaconda3\\lib\\site-packages\\sklearn\\utils\\validation.py:1688: FutureWarning: Feature names only support names that are all strings. Got feature names with dtypes: ['tuple']. An error will be raised in 1.2.\n",
      "  warnings.warn(\n",
      "c:\\Users\\groot\\anaconda3\\lib\\site-packages\\sklearn\\utils\\validation.py:1688: FutureWarning: Feature names only support names that are all strings. Got feature names with dtypes: ['tuple']. An error will be raised in 1.2.\n",
      "  warnings.warn(\n",
      "c:\\Users\\groot\\anaconda3\\lib\\site-packages\\sklearn\\utils\\validation.py:1688: FutureWarning: Feature names only support names that are all strings. Got feature names with dtypes: ['tuple']. An error will be raised in 1.2.\n",
      "  warnings.warn(\n",
      "c:\\Users\\groot\\anaconda3\\lib\\site-packages\\sklearn\\utils\\validation.py:1688: FutureWarning: Feature names only support names that are all strings. Got feature names with dtypes: ['tuple']. An error will be raised in 1.2.\n",
      "  warnings.warn(\n",
      "c:\\Users\\groot\\anaconda3\\lib\\site-packages\\sklearn\\manifold\\_t_sne.py:780: FutureWarning: The default initialization in TSNE will change from 'random' to 'pca' in 1.2.\n",
      "  warnings.warn(\n",
      "c:\\Users\\groot\\anaconda3\\lib\\site-packages\\sklearn\\manifold\\_t_sne.py:790: FutureWarning: The default learning rate in TSNE will change from 200.0 to 'auto' in 1.2.\n",
      "  warnings.warn(\n",
      "c:\\Users\\groot\\anaconda3\\lib\\site-packages\\sklearn\\manifold\\_t_sne.py:780: FutureWarning: The default initialization in TSNE will change from 'random' to 'pca' in 1.2.\n",
      "  warnings.warn(\n",
      "c:\\Users\\groot\\anaconda3\\lib\\site-packages\\sklearn\\manifold\\_t_sne.py:790: FutureWarning: The default learning rate in TSNE will change from 200.0 to 'auto' in 1.2.\n",
      "  warnings.warn(\n",
      "c:\\Users\\groot\\anaconda3\\lib\\site-packages\\sklearn\\manifold\\_t_sne.py:780: FutureWarning: The default initialization in TSNE will change from 'random' to 'pca' in 1.2.\n",
      "  warnings.warn(\n",
      "c:\\Users\\groot\\anaconda3\\lib\\site-packages\\sklearn\\manifold\\_t_sne.py:790: FutureWarning: The default learning rate in TSNE will change from 200.0 to 'auto' in 1.2.\n",
      "  warnings.warn(\n"
     ]
    }
   ],
   "source": [
    "X_train, X_test, y_train, y_test = get_all()\n",
    "X_train, X_test = tsne_preprocess(X_train, X_test)"
   ]
  },
  {
   "cell_type": "code",
   "execution_count": 12,
   "metadata": {},
   "outputs": [
    {
     "name": "stdout",
     "output_type": "stream",
     "text": [
      "              precision    recall  f1-score   support\n",
      "\n",
      "  Electronic       0.50      0.07      0.12       100\n",
      "     Hip-Hop       0.32      0.36      0.34       100\n",
      "Instrumental       0.16      0.03      0.05       100\n",
      "         Pop       0.26      0.73      0.38       100\n",
      "        Rock       0.08      0.06      0.07       100\n",
      "\n",
      "    accuracy                           0.25       500\n",
      "   macro avg       0.26      0.25      0.19       500\n",
      "weighted avg       0.26      0.25      0.19       500\n",
      "\n"
     ]
    },
    {
     "data": {
      "image/png": "[encoded data removed]",
      "text/plain": [
       "<Figure size 1080x720 with 2 Axes>"
      ]
     },
     "metadata": {},
     "output_type": "display_data"
    }
   ],
   "source": [
    "neigh = KNeighborsClassifier(n_neighbors=100, weights=\"distance\", algorithm=\"ball_tree\")\n",
    "y_pred = neigh.fit(X_train, y_train).predict(X_test)\n",
    "\n",
    "print(classification_report(y_test, y_pred))\n",
    "cf_mat = confusion_matrix(y_test, y_pred)\n",
    "sns.set(rc = {'figure.figsize':(15,10)})\n",
    "\n",
    "ax = sns.heatmap(cf_mat, annot=True, cmap='Blues', fmt='g')\n",
    "ax.set_xticklabels(neigh.classes_)\n",
    "kwargs = {'rotation': 'horizontal'}\n",
    "ax.set_yticklabels(neigh.classes_, **kwargs)\n",
    "\n",
    "ax.set_title('Confusion Matrix with labels\\n\\n')\n",
    "\n",
    "plt.show()"
   ]
  }
 ],
 "metadata": {
  "interpreter": {
   "hash": "5e316cf9ca1723db4e294ad9c78ef2102348ee1117c358c83ccfc22dd6dd6bcc"
  },
  "kernelspec": {
   "display_name": "Python 3.8.8 ('base')",
   "language": "python",
   "name": "python3"
  },
  "language_info": {
   "codemirror_mode": {
    "name": "ipython",
    "version": 3
   },
   "file_extension": ".py",
   "mimetype": "text/x-python",
   "name": "python",
   "nbconvert_exporter": "python",
   "pygments_lexer": "ipython3",
   "version": "3.8.8"
  },
  "orig_nbformat": 4
 },
 "nbformat": 4,
 "nbformat_minor": 2
}
